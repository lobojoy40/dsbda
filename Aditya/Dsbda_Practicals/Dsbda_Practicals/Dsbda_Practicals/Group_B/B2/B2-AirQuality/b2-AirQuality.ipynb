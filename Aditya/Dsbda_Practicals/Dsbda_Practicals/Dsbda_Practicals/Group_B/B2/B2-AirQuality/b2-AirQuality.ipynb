{
  "metadata": {
    "kernelspec": {
      "name": "python",
      "display_name": "Python (Pyodide)",
      "language": "python"
    },
    "language_info": {
      "codemirror_mode": {
        "name": "python",
        "version": 3
      },
      "file_extension": ".py",
      "mimetype": "text/x-python",
      "name": "python",
      "nbconvert_exporter": "python",
      "pygments_lexer": "ipython3",
      "version": "3.8"
    }
  },
  "nbformat_minor": 5,
  "nbformat": 4,
  "cells": [
    {
      "id": "d8fd1074",
      "cell_type": "markdown",
      "source": "### Operations:\na. Data cleaning<br>\nb. Data integration<br>\nc. Data transformation<br>\nd. Error correcting<br>",
      "metadata": {}
    },
    {
      "id": "a7b1f452",
      "cell_type": "code",
      "source": "import pandas as pd\nimport numpy as np",
      "metadata": {
        "trusted": true
      },
      "outputs": [],
      "execution_count": 1
    },
    {
      "id": "f9cc47e0",
      "cell_type": "code",
      "source": "df = pd.read_csv('airquality_data.csv', encoding='cp1252' ,low_memory=False)",
      "metadata": {
        "trusted": true
      },
      "outputs": [],
      "execution_count": 6
    },
    {
      "id": "901229c6",
      "cell_type": "code",
      "source": "df.head()",
      "metadata": {
        "trusted": true
      },
      "outputs": [
        {
          "execution_count": 7,
          "output_type": "execute_result",
          "data": {
            "text/plain": "  stn_code       sampling_date           state   location agency  \\\n0      150  February - M021990  Andhra Pradesh  Hyderabad    NaN   \n1      151  February - M021990  Andhra Pradesh  Hyderabad    NaN   \n2      152  February - M021990  Andhra Pradesh  Hyderabad    NaN   \n3      150     March - M031990  Andhra Pradesh  Hyderabad    NaN   \n4      151     March - M031990  Andhra Pradesh  Hyderabad    NaN   \n\n                                 type  so2   no2  rspm  spm  \\\n0  Residential, Rural and other Areas  4.8  17.4   NaN  NaN   \n1                     Industrial Area  3.1   7.0   NaN  NaN   \n2  Residential, Rural and other Areas  6.2  28.5   NaN  NaN   \n3  Residential, Rural and other Areas  6.3  14.7   NaN  NaN   \n4                     Industrial Area  4.7   7.5   NaN  NaN   \n\n  location_monitoring_station  pm2_5        date  \n0                         NaN    NaN  1990-02-01  \n1                         NaN    NaN  1990-02-01  \n2                         NaN    NaN  1990-02-01  \n3                         NaN    NaN  1990-03-01  \n4                         NaN    NaN  1990-03-01  ",
            "text/html": "<div>\n<style scoped>\n    .dataframe tbody tr th:only-of-type {\n        vertical-align: middle;\n    }\n\n    .dataframe tbody tr th {\n        vertical-align: top;\n    }\n\n    .dataframe thead th {\n        text-align: right;\n    }\n</style>\n<table border=\"1\" class=\"dataframe\">\n  <thead>\n    <tr style=\"text-align: right;\">\n      <th></th>\n      <th>stn_code</th>\n      <th>sampling_date</th>\n      <th>state</th>\n      <th>location</th>\n      <th>agency</th>\n      <th>type</th>\n      <th>so2</th>\n      <th>no2</th>\n      <th>rspm</th>\n      <th>spm</th>\n      <th>location_monitoring_station</th>\n      <th>pm2_5</th>\n      <th>date</th>\n    </tr>\n  </thead>\n  <tbody>\n    <tr>\n      <th>0</th>\n      <td>150</td>\n      <td>February - M021990</td>\n      <td>Andhra Pradesh</td>\n      <td>Hyderabad</td>\n      <td>NaN</td>\n      <td>Residential, Rural and other Areas</td>\n      <td>4.8</td>\n      <td>17.4</td>\n      <td>NaN</td>\n      <td>NaN</td>\n      <td>NaN</td>\n      <td>NaN</td>\n      <td>1990-02-01</td>\n    </tr>\n    <tr>\n      <th>1</th>\n      <td>151</td>\n      <td>February - M021990</td>\n      <td>Andhra Pradesh</td>\n      <td>Hyderabad</td>\n      <td>NaN</td>\n      <td>Industrial Area</td>\n      <td>3.1</td>\n      <td>7.0</td>\n      <td>NaN</td>\n      <td>NaN</td>\n      <td>NaN</td>\n      <td>NaN</td>\n      <td>1990-02-01</td>\n    </tr>\n    <tr>\n      <th>2</th>\n      <td>152</td>\n      <td>February - M021990</td>\n      <td>Andhra Pradesh</td>\n      <td>Hyderabad</td>\n      <td>NaN</td>\n      <td>Residential, Rural and other Areas</td>\n      <td>6.2</td>\n      <td>28.5</td>\n      <td>NaN</td>\n      <td>NaN</td>\n      <td>NaN</td>\n      <td>NaN</td>\n      <td>1990-02-01</td>\n    </tr>\n    <tr>\n      <th>3</th>\n      <td>150</td>\n      <td>March - M031990</td>\n      <td>Andhra Pradesh</td>\n      <td>Hyderabad</td>\n      <td>NaN</td>\n      <td>Residential, Rural and other Areas</td>\n      <td>6.3</td>\n      <td>14.7</td>\n      <td>NaN</td>\n      <td>NaN</td>\n      <td>NaN</td>\n      <td>NaN</td>\n      <td>1990-03-01</td>\n    </tr>\n    <tr>\n      <th>4</th>\n      <td>151</td>\n      <td>March - M031990</td>\n      <td>Andhra Pradesh</td>\n      <td>Hyderabad</td>\n      <td>NaN</td>\n      <td>Industrial Area</td>\n      <td>4.7</td>\n      <td>7.5</td>\n      <td>NaN</td>\n      <td>NaN</td>\n      <td>NaN</td>\n      <td>NaN</td>\n      <td>1990-03-01</td>\n    </tr>\n  </tbody>\n</table>\n</div>"
          },
          "metadata": {}
        }
      ],
      "execution_count": 7
    },
    {
      "id": "d554bacd",
      "cell_type": "code",
      "source": "df.info()",
      "metadata": {
        "trusted": true
      },
      "outputs": [
        {
          "name": "stdout",
          "output_type": "stream",
          "text": "<class 'pandas.core.frame.DataFrame'>\nRangeIndex: 435742 entries, 0 to 435741\nData columns (total 13 columns):\n #   Column                       Non-Null Count   Dtype  \n---  ------                       --------------   -----  \n 0   stn_code                     291665 non-null  object \n 1   sampling_date                435739 non-null  object \n 2   state                        435742 non-null  object \n 3   location                     435739 non-null  object \n 4   agency                       286261 non-null  object \n 5   type                         430349 non-null  object \n 6   so2                          401096 non-null  float64\n 7   no2                          419509 non-null  float64\n 8   rspm                         395520 non-null  float64\n 9   spm                          198355 non-null  float64\n 10  location_monitoring_station  408251 non-null  object \n 11  pm2_5                        9314 non-null    float64\n 12  date                         435735 non-null  object \ndtypes: float64(5), object(8)\nmemory usage: 29.9+ MB\n"
        }
      ],
      "execution_count": 8
    },
    {
      "id": "5373edae",
      "cell_type": "code",
      "source": "df.columns",
      "metadata": {
        "trusted": true
      },
      "outputs": [
        {
          "execution_count": 9,
          "output_type": "execute_result",
          "data": {
            "text/plain": "Index(['stn_code', 'sampling_date', 'state', 'location', 'agency', 'type',\n       'so2', 'no2', 'rspm', 'spm', 'location_monitoring_station', 'pm2_5',\n       'date'],\n      dtype='object')"
          },
          "metadata": {}
        }
      ],
      "execution_count": 9
    },
    {
      "id": "4b95da78",
      "cell_type": "markdown",
      "source": "### Data Cleaning",
      "metadata": {}
    },
    {
      "id": "3e818589",
      "cell_type": "code",
      "source": "# Change data type from float64 to float32 for Space Complexity\ndf['so2'] = df['so2'].astype('float32')\ndf['no2'] = df['no2'].astype('float32')\ndf['rspm'] = df['rspm'].astype('float32')\ndf['spm'] = df['spm'].astype('float32')\ndf['date'] = df['date'].astype('string')\n\ndf.info()",
      "metadata": {
        "trusted": true
      },
      "outputs": [
        {
          "name": "stdout",
          "output_type": "stream",
          "text": "<class 'pandas.core.frame.DataFrame'>\nRangeIndex: 435742 entries, 0 to 435741\nData columns (total 13 columns):\n #   Column                       Non-Null Count   Dtype  \n---  ------                       --------------   -----  \n 0   stn_code                     291665 non-null  object \n 1   sampling_date                435739 non-null  object \n 2   state                        435742 non-null  object \n 3   location                     435739 non-null  object \n 4   agency                       286261 non-null  object \n 5   type                         430349 non-null  object \n 6   so2                          401096 non-null  float32\n 7   no2                          419509 non-null  float32\n 8   rspm                         395520 non-null  float32\n 9   spm                          198355 non-null  float32\n 10  location_monitoring_station  408251 non-null  object \n 11  pm2_5                        9314 non-null    float64\n 12  date                         435735 non-null  string \ndtypes: float32(4), float64(1), object(7), string(1)\nmemory usage: 23.3+ MB\n"
        }
      ],
      "execution_count": 10
    },
    {
      "id": "5eb0c5e4",
      "cell_type": "code",
      "source": "df=df.drop_duplicates()",
      "metadata": {
        "trusted": true
      },
      "outputs": [],
      "execution_count": 11
    },
    {
      "id": "3027f5ea",
      "cell_type": "code",
      "source": "df.isna().sum()",
      "metadata": {
        "trusted": true
      },
      "outputs": [
        {
          "execution_count": 12,
          "output_type": "execute_result",
          "data": {
            "text/plain": "stn_code                       144077\nsampling_date                       3\nstate                               0\nlocation                            3\nagency                         149466\ntype                             5357\nso2                             34632\nno2                             16222\nrspm                            40035\nspm                            236908\nlocation_monitoring_station     27303\npm2_5                          425754\ndate                                7\ndtype: int64"
          },
          "metadata": {}
        }
      ],
      "execution_count": 12
    },
    {
      "id": "e37244d4",
      "cell_type": "code",
      "source": "percent_missing = df.isnull().sum() * 100 / len(df)",
      "metadata": {
        "trusted": true
      },
      "outputs": [],
      "execution_count": 13
    },
    {
      "id": "a873d85d",
      "cell_type": "code",
      "source": "percent_missing.sort_values(ascending=False)",
      "metadata": {
        "trusted": true
      },
      "outputs": [
        {
          "execution_count": 14,
          "output_type": "execute_result",
          "data": {
            "text/plain": "pm2_5                          97.859185\nspm                            54.453097\nagency                         34.354630\nstn_code                       33.115973\nrspm                            9.202010\nso2                             7.960135\nlocation_monitoring_station     6.275571\nno2                             3.728613\ntype                            1.231302\ndate                            0.001609\nsampling_date                   0.000690\nlocation                        0.000690\nstate                           0.000000\ndtype: float64"
          },
          "metadata": {}
        }
      ],
      "execution_count": 14
    },
    {
      "id": "a08eb765",
      "cell_type": "code",
      "source": "df=df.drop(['stn_code', 'agency','sampling_date','location_monitoring_station','pm2_5'], axis = 1)",
      "metadata": {},
      "outputs": [],
      "execution_count": 11
    },
    {
      "id": "fe00eb66",
      "cell_type": "code",
      "source": "df.head()",
      "metadata": {
        "trusted": true
      },
      "outputs": [
        {
          "execution_count": 15,
          "output_type": "execute_result",
          "data": {
            "text/plain": "  stn_code       sampling_date           state   location agency  \\\n0      150  February - M021990  Andhra Pradesh  Hyderabad    NaN   \n1      151  February - M021990  Andhra Pradesh  Hyderabad    NaN   \n2      152  February - M021990  Andhra Pradesh  Hyderabad    NaN   \n3      150     March - M031990  Andhra Pradesh  Hyderabad    NaN   \n4      151     March - M031990  Andhra Pradesh  Hyderabad    NaN   \n\n                                 type  so2   no2  rspm  spm  \\\n0  Residential, Rural and other Areas  4.8  17.4   NaN  NaN   \n1                     Industrial Area  3.1   7.0   NaN  NaN   \n2  Residential, Rural and other Areas  6.2  28.5   NaN  NaN   \n3  Residential, Rural and other Areas  6.3  14.7   NaN  NaN   \n4                     Industrial Area  4.7   7.5   NaN  NaN   \n\n  location_monitoring_station  pm2_5        date  \n0                         NaN    NaN  1990-02-01  \n1                         NaN    NaN  1990-02-01  \n2                         NaN    NaN  1990-02-01  \n3                         NaN    NaN  1990-03-01  \n4                         NaN    NaN  1990-03-01  ",
            "text/html": "<div>\n<style scoped>\n    .dataframe tbody tr th:only-of-type {\n        vertical-align: middle;\n    }\n\n    .dataframe tbody tr th {\n        vertical-align: top;\n    }\n\n    .dataframe thead th {\n        text-align: right;\n    }\n</style>\n<table border=\"1\" class=\"dataframe\">\n  <thead>\n    <tr style=\"text-align: right;\">\n      <th></th>\n      <th>stn_code</th>\n      <th>sampling_date</th>\n      <th>state</th>\n      <th>location</th>\n      <th>agency</th>\n      <th>type</th>\n      <th>so2</th>\n      <th>no2</th>\n      <th>rspm</th>\n      <th>spm</th>\n      <th>location_monitoring_station</th>\n      <th>pm2_5</th>\n      <th>date</th>\n    </tr>\n  </thead>\n  <tbody>\n    <tr>\n      <th>0</th>\n      <td>150</td>\n      <td>February - M021990</td>\n      <td>Andhra Pradesh</td>\n      <td>Hyderabad</td>\n      <td>NaN</td>\n      <td>Residential, Rural and other Areas</td>\n      <td>4.8</td>\n      <td>17.4</td>\n      <td>NaN</td>\n      <td>NaN</td>\n      <td>NaN</td>\n      <td>NaN</td>\n      <td>1990-02-01</td>\n    </tr>\n    <tr>\n      <th>1</th>\n      <td>151</td>\n      <td>February - M021990</td>\n      <td>Andhra Pradesh</td>\n      <td>Hyderabad</td>\n      <td>NaN</td>\n      <td>Industrial Area</td>\n      <td>3.1</td>\n      <td>7.0</td>\n      <td>NaN</td>\n      <td>NaN</td>\n      <td>NaN</td>\n      <td>NaN</td>\n      <td>1990-02-01</td>\n    </tr>\n    <tr>\n      <th>2</th>\n      <td>152</td>\n      <td>February - M021990</td>\n      <td>Andhra Pradesh</td>\n      <td>Hyderabad</td>\n      <td>NaN</td>\n      <td>Residential, Rural and other Areas</td>\n      <td>6.2</td>\n      <td>28.5</td>\n      <td>NaN</td>\n      <td>NaN</td>\n      <td>NaN</td>\n      <td>NaN</td>\n      <td>1990-02-01</td>\n    </tr>\n    <tr>\n      <th>3</th>\n      <td>150</td>\n      <td>March - M031990</td>\n      <td>Andhra Pradesh</td>\n      <td>Hyderabad</td>\n      <td>NaN</td>\n      <td>Residential, Rural and other Areas</td>\n      <td>6.3</td>\n      <td>14.7</td>\n      <td>NaN</td>\n      <td>NaN</td>\n      <td>NaN</td>\n      <td>NaN</td>\n      <td>1990-03-01</td>\n    </tr>\n    <tr>\n      <th>4</th>\n      <td>151</td>\n      <td>March - M031990</td>\n      <td>Andhra Pradesh</td>\n      <td>Hyderabad</td>\n      <td>NaN</td>\n      <td>Industrial Area</td>\n      <td>4.7</td>\n      <td>7.5</td>\n      <td>NaN</td>\n      <td>NaN</td>\n      <td>NaN</td>\n      <td>NaN</td>\n      <td>1990-03-01</td>\n    </tr>\n  </tbody>\n</table>\n</div>"
          },
          "metadata": {}
        }
      ],
      "execution_count": 15
    },
    {
      "id": "e498f0c9",
      "cell_type": "code",
      "source": "df.columns",
      "metadata": {
        "trusted": true
      },
      "outputs": [
        {
          "execution_count": 16,
          "output_type": "execute_result",
          "data": {
            "text/plain": "Index(['stn_code', 'sampling_date', 'state', 'location', 'agency', 'type',\n       'so2', 'no2', 'rspm', 'spm', 'location_monitoring_station', 'pm2_5',\n       'date'],\n      dtype='object')"
          },
          "metadata": {}
        }
      ],
      "execution_count": 16
    },
    {
      "id": "59b5d9a7",
      "cell_type": "code",
      "source": "col_var = ['state', 'location', 'type','date']\ncol_num = ['so2','no2','rspm','spm']",
      "metadata": {},
      "outputs": [],
      "execution_count": 14
    },
    {
      "id": "7c3d6ba4",
      "cell_type": "code",
      "source": "for col in df.columns:\n    if df[col].dtype == 'object' or df[col].dtype == 'string':\n        df[col] = df[col].fillna(df[col].mode()[0])\n    else:\n        df[col] = df[col].fillna(df[col].mean())",
      "metadata": {
        "trusted": true
      },
      "outputs": [],
      "execution_count": 17
    },
    {
      "id": "1d4d912d",
      "cell_type": "code",
      "source": "df.isna().sum()",
      "metadata": {
        "trusted": true
      },
      "outputs": [
        {
          "execution_count": 18,
          "output_type": "execute_result",
          "data": {
            "text/plain": "stn_code                       0\nsampling_date                  0\nstate                          0\nlocation                       0\nagency                         0\ntype                           0\nso2                            0\nno2                            0\nrspm                           0\nspm                            0\nlocation_monitoring_station    0\npm2_5                          0\ndate                           0\ndtype: int64"
          },
          "metadata": {}
        }
      ],
      "execution_count": 18
    },
    {
      "id": "654ca668",
      "cell_type": "code",
      "source": "df",
      "metadata": {
        "trusted": true
      },
      "outputs": [
        {
          "execution_count": 19,
          "output_type": "execute_result",
          "data": {
            "text/plain": "       stn_code       sampling_date                        state   location  \\\n0           150  February - M021990               Andhra Pradesh  Hyderabad   \n1           151  February - M021990               Andhra Pradesh  Hyderabad   \n2           152  February - M021990               Andhra Pradesh  Hyderabad   \n3           150     March - M031990               Andhra Pradesh  Hyderabad   \n4           151     March - M031990               Andhra Pradesh  Hyderabad   \n...         ...                 ...                          ...        ...   \n435737     SAMP            24-12-15                  West Bengal   ULUBERIA   \n435738     SAMP            29-12-15                  West Bengal   ULUBERIA   \n435739      193            19-03-15  andaman-and-nicobar-islands   Guwahati   \n435740      193            19-03-15                  Lakshadweep   Guwahati   \n435741      193            19-03-15                      Tripura   Guwahati   \n\n                                           agency  \\\n0       Maharashtra State Pollution Control Board   \n1       Maharashtra State Pollution Control Board   \n2       Maharashtra State Pollution Control Board   \n3       Maharashtra State Pollution Control Board   \n4       Maharashtra State Pollution Control Board   \n...                                           ...   \n435737  West Bengal State Pollution Control Board   \n435738  West Bengal State Pollution Control Board   \n435739  Maharashtra State Pollution Control Board   \n435740  Maharashtra State Pollution Control Board   \n435741  Maharashtra State Pollution Control Board   \n\n                                      type        so2        no2        rspm  \\\n0       Residential, Rural and other Areas   4.800000  17.400000  108.871712   \n1                          Industrial Area   3.100000   7.000000  108.871712   \n2       Residential, Rural and other Areas   6.200000  28.500000  108.871712   \n3       Residential, Rural and other Areas   6.300000  14.700000  108.871712   \n4                          Industrial Area   4.700000   7.500000  108.871712   \n...                                    ...        ...        ...         ...   \n435737                               RIRUO  22.000000  50.000000  143.000000   \n435738                               RIRUO  20.000000  46.000000  171.000000   \n435739  Residential, Rural and other Areas  10.830467  25.823299  108.871712   \n435740  Residential, Rural and other Areas  10.830467  25.823299  108.871712   \n435741  Residential, Rural and other Areas  10.830467  25.823299  108.871712   \n\n               spm        location_monitoring_station      pm2_5        date  \n0       220.774796                    Regional Office  40.791467  1990-02-01  \n1       220.774796                    Regional Office  40.791467  1990-02-01  \n2       220.774796                    Regional Office  40.791467  1990-02-01  \n3       220.774796                    Regional Office  40.791467  1990-03-01  \n4       220.774796                    Regional Office  40.791467  1990-03-01  \n...            ...                                ...        ...         ...  \n435737  220.774796  Inside Rampal Industries,ULUBERIA  40.791467  2015-12-24  \n435738  220.774796  Inside Rampal Industries,ULUBERIA  40.791467  2015-12-29  \n435739  220.774796                    Regional Office  40.791467  2015-03-19  \n435740  220.774796                    Regional Office  40.791467  2015-03-19  \n435741  220.774796                    Regional Office  40.791467  2015-03-19  \n\n[435068 rows x 13 columns]",
            "text/html": "<div>\n<style scoped>\n    .dataframe tbody tr th:only-of-type {\n        vertical-align: middle;\n    }\n\n    .dataframe tbody tr th {\n        vertical-align: top;\n    }\n\n    .dataframe thead th {\n        text-align: right;\n    }\n</style>\n<table border=\"1\" class=\"dataframe\">\n  <thead>\n    <tr style=\"text-align: right;\">\n      <th></th>\n      <th>stn_code</th>\n      <th>sampling_date</th>\n      <th>state</th>\n      <th>location</th>\n      <th>agency</th>\n      <th>type</th>\n      <th>so2</th>\n      <th>no2</th>\n      <th>rspm</th>\n      <th>spm</th>\n      <th>location_monitoring_station</th>\n      <th>pm2_5</th>\n      <th>date</th>\n    </tr>\n  </thead>\n  <tbody>\n    <tr>\n      <th>0</th>\n      <td>150</td>\n      <td>February - M021990</td>\n      <td>Andhra Pradesh</td>\n      <td>Hyderabad</td>\n      <td>Maharashtra State Pollution Control Board</td>\n      <td>Residential, Rural and other Areas</td>\n      <td>4.800000</td>\n      <td>17.400000</td>\n      <td>108.871712</td>\n      <td>220.774796</td>\n      <td>Regional Office</td>\n      <td>40.791467</td>\n      <td>1990-02-01</td>\n    </tr>\n    <tr>\n      <th>1</th>\n      <td>151</td>\n      <td>February - M021990</td>\n      <td>Andhra Pradesh</td>\n      <td>Hyderabad</td>\n      <td>Maharashtra State Pollution Control Board</td>\n      <td>Industrial Area</td>\n      <td>3.100000</td>\n      <td>7.000000</td>\n      <td>108.871712</td>\n      <td>220.774796</td>\n      <td>Regional Office</td>\n      <td>40.791467</td>\n      <td>1990-02-01</td>\n    </tr>\n    <tr>\n      <th>2</th>\n      <td>152</td>\n      <td>February - M021990</td>\n      <td>Andhra Pradesh</td>\n      <td>Hyderabad</td>\n      <td>Maharashtra State Pollution Control Board</td>\n      <td>Residential, Rural and other Areas</td>\n      <td>6.200000</td>\n      <td>28.500000</td>\n      <td>108.871712</td>\n      <td>220.774796</td>\n      <td>Regional Office</td>\n      <td>40.791467</td>\n      <td>1990-02-01</td>\n    </tr>\n    <tr>\n      <th>3</th>\n      <td>150</td>\n      <td>March - M031990</td>\n      <td>Andhra Pradesh</td>\n      <td>Hyderabad</td>\n      <td>Maharashtra State Pollution Control Board</td>\n      <td>Residential, Rural and other Areas</td>\n      <td>6.300000</td>\n      <td>14.700000</td>\n      <td>108.871712</td>\n      <td>220.774796</td>\n      <td>Regional Office</td>\n      <td>40.791467</td>\n      <td>1990-03-01</td>\n    </tr>\n    <tr>\n      <th>4</th>\n      <td>151</td>\n      <td>March - M031990</td>\n      <td>Andhra Pradesh</td>\n      <td>Hyderabad</td>\n      <td>Maharashtra State Pollution Control Board</td>\n      <td>Industrial Area</td>\n      <td>4.700000</td>\n      <td>7.500000</td>\n      <td>108.871712</td>\n      <td>220.774796</td>\n      <td>Regional Office</td>\n      <td>40.791467</td>\n      <td>1990-03-01</td>\n    </tr>\n    <tr>\n      <th>...</th>\n      <td>...</td>\n      <td>...</td>\n      <td>...</td>\n      <td>...</td>\n      <td>...</td>\n      <td>...</td>\n      <td>...</td>\n      <td>...</td>\n      <td>...</td>\n      <td>...</td>\n      <td>...</td>\n      <td>...</td>\n      <td>...</td>\n    </tr>\n    <tr>\n      <th>435737</th>\n      <td>SAMP</td>\n      <td>24-12-15</td>\n      <td>West Bengal</td>\n      <td>ULUBERIA</td>\n      <td>West Bengal State Pollution Control Board</td>\n      <td>RIRUO</td>\n      <td>22.000000</td>\n      <td>50.000000</td>\n      <td>143.000000</td>\n      <td>220.774796</td>\n      <td>Inside Rampal Industries,ULUBERIA</td>\n      <td>40.791467</td>\n      <td>2015-12-24</td>\n    </tr>\n    <tr>\n      <th>435738</th>\n      <td>SAMP</td>\n      <td>29-12-15</td>\n      <td>West Bengal</td>\n      <td>ULUBERIA</td>\n      <td>West Bengal State Pollution Control Board</td>\n      <td>RIRUO</td>\n      <td>20.000000</td>\n      <td>46.000000</td>\n      <td>171.000000</td>\n      <td>220.774796</td>\n      <td>Inside Rampal Industries,ULUBERIA</td>\n      <td>40.791467</td>\n      <td>2015-12-29</td>\n    </tr>\n    <tr>\n      <th>435739</th>\n      <td>193</td>\n      <td>19-03-15</td>\n      <td>andaman-and-nicobar-islands</td>\n      <td>Guwahati</td>\n      <td>Maharashtra State Pollution Control Board</td>\n      <td>Residential, Rural and other Areas</td>\n      <td>10.830467</td>\n      <td>25.823299</td>\n      <td>108.871712</td>\n      <td>220.774796</td>\n      <td>Regional Office</td>\n      <td>40.791467</td>\n      <td>2015-03-19</td>\n    </tr>\n    <tr>\n      <th>435740</th>\n      <td>193</td>\n      <td>19-03-15</td>\n      <td>Lakshadweep</td>\n      <td>Guwahati</td>\n      <td>Maharashtra State Pollution Control Board</td>\n      <td>Residential, Rural and other Areas</td>\n      <td>10.830467</td>\n      <td>25.823299</td>\n      <td>108.871712</td>\n      <td>220.774796</td>\n      <td>Regional Office</td>\n      <td>40.791467</td>\n      <td>2015-03-19</td>\n    </tr>\n    <tr>\n      <th>435741</th>\n      <td>193</td>\n      <td>19-03-15</td>\n      <td>Tripura</td>\n      <td>Guwahati</td>\n      <td>Maharashtra State Pollution Control Board</td>\n      <td>Residential, Rural and other Areas</td>\n      <td>10.830467</td>\n      <td>25.823299</td>\n      <td>108.871712</td>\n      <td>220.774796</td>\n      <td>Regional Office</td>\n      <td>40.791467</td>\n      <td>2015-03-19</td>\n    </tr>\n  </tbody>\n</table>\n<p>435068 rows × 13 columns</p>\n</div>"
          },
          "metadata": {}
        }
      ],
      "execution_count": 19
    },
    {
      "id": "545753bd",
      "cell_type": "code",
      "source": "df.isna().sum()",
      "metadata": {
        "trusted": true
      },
      "outputs": [
        {
          "execution_count": 20,
          "output_type": "execute_result",
          "data": {
            "text/plain": "stn_code                       0\nsampling_date                  0\nstate                          0\nlocation                       0\nagency                         0\ntype                           0\nso2                            0\nno2                            0\nrspm                           0\nspm                            0\nlocation_monitoring_station    0\npm2_5                          0\ndate                           0\ndtype: int64"
          },
          "metadata": {}
        }
      ],
      "execution_count": 20
    },
    {
      "id": "e522a21b",
      "cell_type": "markdown",
      "source": "\n# Data integration",
      "metadata": {}
    },
    {
      "id": "5a17ec5a",
      "cell_type": "code",
      "source": "subSet1 = df[['state', 'type']]\nsubSet2 = df[['state','location']]",
      "metadata": {
        "trusted": true
      },
      "outputs": [],
      "execution_count": 21
    },
    {
      "id": "49368e67",
      "cell_type": "code",
      "source": "subSet1.head()",
      "metadata": {
        "trusted": true
      },
      "outputs": [
        {
          "execution_count": 22,
          "output_type": "execute_result",
          "data": {
            "text/plain": "            state                                type\n0  Andhra Pradesh  Residential, Rural and other Areas\n1  Andhra Pradesh                     Industrial Area\n2  Andhra Pradesh  Residential, Rural and other Areas\n3  Andhra Pradesh  Residential, Rural and other Areas\n4  Andhra Pradesh                     Industrial Area",
            "text/html": "<div>\n<style scoped>\n    .dataframe tbody tr th:only-of-type {\n        vertical-align: middle;\n    }\n\n    .dataframe tbody tr th {\n        vertical-align: top;\n    }\n\n    .dataframe thead th {\n        text-align: right;\n    }\n</style>\n<table border=\"1\" class=\"dataframe\">\n  <thead>\n    <tr style=\"text-align: right;\">\n      <th></th>\n      <th>state</th>\n      <th>type</th>\n    </tr>\n  </thead>\n  <tbody>\n    <tr>\n      <th>0</th>\n      <td>Andhra Pradesh</td>\n      <td>Residential, Rural and other Areas</td>\n    </tr>\n    <tr>\n      <th>1</th>\n      <td>Andhra Pradesh</td>\n      <td>Industrial Area</td>\n    </tr>\n    <tr>\n      <th>2</th>\n      <td>Andhra Pradesh</td>\n      <td>Residential, Rural and other Areas</td>\n    </tr>\n    <tr>\n      <th>3</th>\n      <td>Andhra Pradesh</td>\n      <td>Residential, Rural and other Areas</td>\n    </tr>\n    <tr>\n      <th>4</th>\n      <td>Andhra Pradesh</td>\n      <td>Industrial Area</td>\n    </tr>\n  </tbody>\n</table>\n</div>"
          },
          "metadata": {}
        }
      ],
      "execution_count": 22
    },
    {
      "id": "71699203",
      "cell_type": "code",
      "source": "subSet2.head()",
      "metadata": {
        "trusted": true
      },
      "outputs": [
        {
          "execution_count": 23,
          "output_type": "execute_result",
          "data": {
            "text/plain": "            state   location\n0  Andhra Pradesh  Hyderabad\n1  Andhra Pradesh  Hyderabad\n2  Andhra Pradesh  Hyderabad\n3  Andhra Pradesh  Hyderabad\n4  Andhra Pradesh  Hyderabad",
            "text/html": "<div>\n<style scoped>\n    .dataframe tbody tr th:only-of-type {\n        vertical-align: middle;\n    }\n\n    .dataframe tbody tr th {\n        vertical-align: top;\n    }\n\n    .dataframe thead th {\n        text-align: right;\n    }\n</style>\n<table border=\"1\" class=\"dataframe\">\n  <thead>\n    <tr style=\"text-align: right;\">\n      <th></th>\n      <th>state</th>\n      <th>location</th>\n    </tr>\n  </thead>\n  <tbody>\n    <tr>\n      <th>0</th>\n      <td>Andhra Pradesh</td>\n      <td>Hyderabad</td>\n    </tr>\n    <tr>\n      <th>1</th>\n      <td>Andhra Pradesh</td>\n      <td>Hyderabad</td>\n    </tr>\n    <tr>\n      <th>2</th>\n      <td>Andhra Pradesh</td>\n      <td>Hyderabad</td>\n    </tr>\n    <tr>\n      <th>3</th>\n      <td>Andhra Pradesh</td>\n      <td>Hyderabad</td>\n    </tr>\n    <tr>\n      <th>4</th>\n      <td>Andhra Pradesh</td>\n      <td>Hyderabad</td>\n    </tr>\n  </tbody>\n</table>\n</div>"
          },
          "metadata": {}
        }
      ],
      "execution_count": 23
    },
    {
      "id": "3a56045d",
      "cell_type": "code",
      "source": "concatenated_df = pd.concat([subSet1, subSet2], axis=1)",
      "metadata": {
        "trusted": true
      },
      "outputs": [],
      "execution_count": 24
    },
    {
      "id": "49ebb013",
      "cell_type": "code",
      "source": "concatenated_df",
      "metadata": {
        "trusted": true
      },
      "outputs": [
        {
          "execution_count": 25,
          "output_type": "execute_result",
          "data": {
            "text/plain": "                              state                                type  \\\n0                    Andhra Pradesh  Residential, Rural and other Areas   \n1                    Andhra Pradesh                     Industrial Area   \n2                    Andhra Pradesh  Residential, Rural and other Areas   \n3                    Andhra Pradesh  Residential, Rural and other Areas   \n4                    Andhra Pradesh                     Industrial Area   \n...                             ...                                 ...   \n435737                  West Bengal                               RIRUO   \n435738                  West Bengal                               RIRUO   \n435739  andaman-and-nicobar-islands  Residential, Rural and other Areas   \n435740                  Lakshadweep  Residential, Rural and other Areas   \n435741                      Tripura  Residential, Rural and other Areas   \n\n                              state   location  \n0                    Andhra Pradesh  Hyderabad  \n1                    Andhra Pradesh  Hyderabad  \n2                    Andhra Pradesh  Hyderabad  \n3                    Andhra Pradesh  Hyderabad  \n4                    Andhra Pradesh  Hyderabad  \n...                             ...        ...  \n435737                  West Bengal   ULUBERIA  \n435738                  West Bengal   ULUBERIA  \n435739  andaman-and-nicobar-islands   Guwahati  \n435740                  Lakshadweep   Guwahati  \n435741                      Tripura   Guwahati  \n\n[435068 rows x 4 columns]",
            "text/html": "<div>\n<style scoped>\n    .dataframe tbody tr th:only-of-type {\n        vertical-align: middle;\n    }\n\n    .dataframe tbody tr th {\n        vertical-align: top;\n    }\n\n    .dataframe thead th {\n        text-align: right;\n    }\n</style>\n<table border=\"1\" class=\"dataframe\">\n  <thead>\n    <tr style=\"text-align: right;\">\n      <th></th>\n      <th>state</th>\n      <th>type</th>\n      <th>state</th>\n      <th>location</th>\n    </tr>\n  </thead>\n  <tbody>\n    <tr>\n      <th>0</th>\n      <td>Andhra Pradesh</td>\n      <td>Residential, Rural and other Areas</td>\n      <td>Andhra Pradesh</td>\n      <td>Hyderabad</td>\n    </tr>\n    <tr>\n      <th>1</th>\n      <td>Andhra Pradesh</td>\n      <td>Industrial Area</td>\n      <td>Andhra Pradesh</td>\n      <td>Hyderabad</td>\n    </tr>\n    <tr>\n      <th>2</th>\n      <td>Andhra Pradesh</td>\n      <td>Residential, Rural and other Areas</td>\n      <td>Andhra Pradesh</td>\n      <td>Hyderabad</td>\n    </tr>\n    <tr>\n      <th>3</th>\n      <td>Andhra Pradesh</td>\n      <td>Residential, Rural and other Areas</td>\n      <td>Andhra Pradesh</td>\n      <td>Hyderabad</td>\n    </tr>\n    <tr>\n      <th>4</th>\n      <td>Andhra Pradesh</td>\n      <td>Industrial Area</td>\n      <td>Andhra Pradesh</td>\n      <td>Hyderabad</td>\n    </tr>\n    <tr>\n      <th>...</th>\n      <td>...</td>\n      <td>...</td>\n      <td>...</td>\n      <td>...</td>\n    </tr>\n    <tr>\n      <th>435737</th>\n      <td>West Bengal</td>\n      <td>RIRUO</td>\n      <td>West Bengal</td>\n      <td>ULUBERIA</td>\n    </tr>\n    <tr>\n      <th>435738</th>\n      <td>West Bengal</td>\n      <td>RIRUO</td>\n      <td>West Bengal</td>\n      <td>ULUBERIA</td>\n    </tr>\n    <tr>\n      <th>435739</th>\n      <td>andaman-and-nicobar-islands</td>\n      <td>Residential, Rural and other Areas</td>\n      <td>andaman-and-nicobar-islands</td>\n      <td>Guwahati</td>\n    </tr>\n    <tr>\n      <th>435740</th>\n      <td>Lakshadweep</td>\n      <td>Residential, Rural and other Areas</td>\n      <td>Lakshadweep</td>\n      <td>Guwahati</td>\n    </tr>\n    <tr>\n      <th>435741</th>\n      <td>Tripura</td>\n      <td>Residential, Rural and other Areas</td>\n      <td>Tripura</td>\n      <td>Guwahati</td>\n    </tr>\n  </tbody>\n</table>\n<p>435068 rows × 4 columns</p>\n</div>"
          },
          "metadata": {}
        }
      ],
      "execution_count": 25
    },
    {
      "id": "f7cc82bb",
      "cell_type": "markdown",
      "source": "### Error Correcting",
      "metadata": {}
    },
    {
      "id": "f853eda6",
      "cell_type": "code",
      "source": "def remove_outliers(column):\n    Q1 = column.quantile(0.25)\n    Q3 = column.quantile(0.75)\n    IQR = Q3 - Q1\n    threshold = 1.5 * IQR\n    outlier_mask = (column < Q1 - threshold) | (column > Q3 + threshold)\n    return column[~outlier_mask]",
      "metadata": {
        "trusted": true
      },
      "outputs": [],
      "execution_count": 26
    },
    {
      "id": "b7f69c40",
      "cell_type": "code",
      "source": "df.columns",
      "metadata": {
        "trusted": true
      },
      "outputs": [
        {
          "execution_count": 27,
          "output_type": "execute_result",
          "data": {
            "text/plain": "Index(['stn_code', 'sampling_date', 'state', 'location', 'agency', 'type',\n       'so2', 'no2', 'rspm', 'spm', 'location_monitoring_station', 'pm2_5',\n       'date'],\n      dtype='object')"
          },
          "metadata": {}
        }
      ],
      "execution_count": 27
    },
    {
      "id": "2ed9106a",
      "cell_type": "code",
      "source": "# Remove outliers for each column using a loop\ncol_name = ['so2', 'no2', 'rspm', 'spm']\nfor col in col_name:\n    df[col] = remove_outliers(df[col])",
      "metadata": {
        "trusted": true
      },
      "outputs": [],
      "execution_count": 28
    },
    {
      "id": "ded044e3",
      "cell_type": "code",
      "source": "%pip install seaborn\nimport seaborn as sns\nimport matplotlib.pyplot as plt",
      "metadata": {
        "trusted": true
      },
      "outputs": [
        {
          "name": "stderr",
          "output_type": "stream",
          "text": "Matplotlib is building the font cache; this may take a moment.\n"
        }
      ],
      "execution_count": 30
    },
    {
      "id": "41e0027f",
      "cell_type": "code",
      "source": "plt.figure(figsize=(10, 6))  # Adjust the figure size if needed\n\nfor col in col_name:\n    sns.boxplot(data=df[col])\n    plt.title(col)\n    plt.show()",
      "metadata": {
        "trusted": true
      },
      "outputs": [
        {
          "output_type": "display_data",
          "data": {
            "text/plain": "<Figure size 1000x600 with 1 Axes>",
            "image/png": "[encoded data removed]"
          },
          "metadata": {}
        },
        {
          "output_type": "display_data",
          "data": {
            "text/plain": "<Figure size 640x480 with 1 Axes>",
            "image/png": "[encoded data removed]"
          },
          "metadata": {}
        },
        {
          "output_type": "display_data",
          "data": {
            "text/plain": "<Figure size 640x480 with 1 Axes>",
            "image/png": "[encoded data removed]"
          },
          "metadata": {}
        },
        {
          "output_type": "display_data",
          "data": {
            "text/plain": "<Figure size 640x480 with 1 Axes>",
            "image/png": "[encoded data removed]"
          },
          "metadata": {}
        }
      ],
      "execution_count": 31
    },
    {
      "id": "45f8a4b5",
      "cell_type": "markdown",
      "source": "## Data Transform",
      "metadata": {}
    },
    {
      "id": "e8e83edc",
      "cell_type": "code",
      "source": "from sklearn.preprocessing import LabelEncoder\n\ncol_label= ['state','location','type']\n# Initialize LabelEncoder\n\nencoder = LabelEncoder()\n# Iterate over columns\nfor col in df.columns:\n        # Fit and transform the column\n        df[col] = encoder.fit_transform(df[col])",
      "metadata": {
        "trusted": true
      },
      "outputs": [],
      "execution_count": 33
    },
    {
      "id": "06778a90",
      "cell_type": "code",
      "source": "df",
      "metadata": {
        "trusted": true
      },
      "outputs": [
        {
          "execution_count": 34,
          "output_type": "execute_result",
          "data": {
            "text/plain": "        stn_code  sampling_date  state  location  agency  type   so2   no2  \\\n0             59           5358      0       114      33     6   446  1489   \n1             60           5358      0       114      33     1   197   250   \n2             61           5358      0       114      33     6   790  3096   \n3             59           5421      0       114      33     6   823  1144   \n4             60           5421      0       114      33     1   427   301   \n...          ...            ...    ...       ...     ...   ...   ...   ...   \n435737       744           3079     35       282      63     3  2888  5307   \n435738       744           3971     35       282      63     3  2809  5113   \n435739       105           1971     36       100      33     6  1638  2696   \n435740       105           1971     17       100      33     6  1638  2696   \n435741       105           1971     31       100      33     6  1638  2696   \n\n        rspm  spm  location_monitoring_station  pm2_5  date  \n0       2030  464                          757    173   213  \n1       2030  464                          757    173   213  \n2       2030  464                          757    173   213  \n3       2030  464                          757    173   214  \n4       2030  464                          757    173   214  \n...      ...  ...                          ...    ...   ...  \n435737  2534  464                          387    173  5059  \n435738  3098  464                          387    173  5064  \n435739  2030  464                          757    173  4779  \n435740  2030  464                          757    173  4779  \n435741  2030  464                          757    173  4779  \n\n[435068 rows x 13 columns]",
            "text/html": "<div>\n<style scoped>\n    .dataframe tbody tr th:only-of-type {\n        vertical-align: middle;\n    }\n\n    .dataframe tbody tr th {\n        vertical-align: top;\n    }\n\n    .dataframe thead th {\n        text-align: right;\n    }\n</style>\n<table border=\"1\" class=\"dataframe\">\n  <thead>\n    <tr style=\"text-align: right;\">\n      <th></th>\n      <th>stn_code</th>\n      <th>sampling_date</th>\n      <th>state</th>\n      <th>location</th>\n      <th>agency</th>\n      <th>type</th>\n      <th>so2</th>\n      <th>no2</th>\n      <th>rspm</th>\n      <th>spm</th>\n      <th>location_monitoring_station</th>\n      <th>pm2_5</th>\n      <th>date</th>\n    </tr>\n  </thead>\n  <tbody>\n    <tr>\n      <th>0</th>\n      <td>59</td>\n      <td>5358</td>\n      <td>0</td>\n      <td>114</td>\n      <td>33</td>\n      <td>6</td>\n      <td>446</td>\n      <td>1489</td>\n      <td>2030</td>\n      <td>464</td>\n      <td>757</td>\n      <td>173</td>\n      <td>213</td>\n    </tr>\n    <tr>\n      <th>1</th>\n      <td>60</td>\n      <td>5358</td>\n      <td>0</td>\n      <td>114</td>\n      <td>33</td>\n      <td>1</td>\n      <td>197</td>\n      <td>250</td>\n      <td>2030</td>\n      <td>464</td>\n      <td>757</td>\n      <td>173</td>\n      <td>213</td>\n    </tr>\n    <tr>\n      <th>2</th>\n      <td>61</td>\n      <td>5358</td>\n      <td>0</td>\n      <td>114</td>\n      <td>33</td>\n      <td>6</td>\n      <td>790</td>\n      <td>3096</td>\n      <td>2030</td>\n      <td>464</td>\n      <td>757</td>\n      <td>173</td>\n      <td>213</td>\n    </tr>\n    <tr>\n      <th>3</th>\n      <td>59</td>\n      <td>5421</td>\n      <td>0</td>\n      <td>114</td>\n      <td>33</td>\n      <td>6</td>\n      <td>823</td>\n      <td>1144</td>\n      <td>2030</td>\n      <td>464</td>\n      <td>757</td>\n      <td>173</td>\n      <td>214</td>\n    </tr>\n    <tr>\n      <th>4</th>\n      <td>60</td>\n      <td>5421</td>\n      <td>0</td>\n      <td>114</td>\n      <td>33</td>\n      <td>1</td>\n      <td>427</td>\n      <td>301</td>\n      <td>2030</td>\n      <td>464</td>\n      <td>757</td>\n      <td>173</td>\n      <td>214</td>\n    </tr>\n    <tr>\n      <th>...</th>\n      <td>...</td>\n      <td>...</td>\n      <td>...</td>\n      <td>...</td>\n      <td>...</td>\n      <td>...</td>\n      <td>...</td>\n      <td>...</td>\n      <td>...</td>\n      <td>...</td>\n      <td>...</td>\n      <td>...</td>\n      <td>...</td>\n    </tr>\n    <tr>\n      <th>435737</th>\n      <td>744</td>\n      <td>3079</td>\n      <td>35</td>\n      <td>282</td>\n      <td>63</td>\n      <td>3</td>\n      <td>2888</td>\n      <td>5307</td>\n      <td>2534</td>\n      <td>464</td>\n      <td>387</td>\n      <td>173</td>\n      <td>5059</td>\n    </tr>\n    <tr>\n      <th>435738</th>\n      <td>744</td>\n      <td>3971</td>\n      <td>35</td>\n      <td>282</td>\n      <td>63</td>\n      <td>3</td>\n      <td>2809</td>\n      <td>5113</td>\n      <td>3098</td>\n      <td>464</td>\n      <td>387</td>\n      <td>173</td>\n      <td>5064</td>\n    </tr>\n    <tr>\n      <th>435739</th>\n      <td>105</td>\n      <td>1971</td>\n      <td>36</td>\n      <td>100</td>\n      <td>33</td>\n      <td>6</td>\n      <td>1638</td>\n      <td>2696</td>\n      <td>2030</td>\n      <td>464</td>\n      <td>757</td>\n      <td>173</td>\n      <td>4779</td>\n    </tr>\n    <tr>\n      <th>435740</th>\n      <td>105</td>\n      <td>1971</td>\n      <td>17</td>\n      <td>100</td>\n      <td>33</td>\n      <td>6</td>\n      <td>1638</td>\n      <td>2696</td>\n      <td>2030</td>\n      <td>464</td>\n      <td>757</td>\n      <td>173</td>\n      <td>4779</td>\n    </tr>\n    <tr>\n      <th>435741</th>\n      <td>105</td>\n      <td>1971</td>\n      <td>31</td>\n      <td>100</td>\n      <td>33</td>\n      <td>6</td>\n      <td>1638</td>\n      <td>2696</td>\n      <td>2030</td>\n      <td>464</td>\n      <td>757</td>\n      <td>173</td>\n      <td>4779</td>\n    </tr>\n  </tbody>\n</table>\n<p>435068 rows × 13 columns</p>\n</div>"
          },
          "metadata": {}
        }
      ],
      "execution_count": 34
    },
    {
      "id": "df5af7b8",
      "cell_type": "code",
      "source": "",
      "metadata": {},
      "outputs": [],
      "execution_count": null
    }
  ]
}