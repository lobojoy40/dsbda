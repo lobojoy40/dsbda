{
  "metadata": {
    "kernelspec": {
      "name": "python",
      "display_name": "Python (Pyodide)",
      "language": "python"
    },
    "language_info": {
      "codemirror_mode": {
        "name": "python",
        "version": 3
      },
      "file_extension": ".py",
      "mimetype": "text/x-python",
      "name": "python",
      "nbconvert_exporter": "python",
      "pygments_lexer": "ipython3",
      "version": "3.8"
    }
  },
  "nbformat_minor": 5,
  "nbformat": 4,
  "cells": [
    {
      "id": "8e4a3c21-7d8b-46dd-bf67-bf7d0e48529f",
      "cell_type": "code",
      "source": "import pandas as pd",
      "metadata": {
        "trusted": true
      },
      "outputs": [],
      "execution_count": 1
    },
    {
      "id": "0ef3f3ea-594f-47e5-9c88-b3e08c0ca460",
      "cell_type": "code",
      "source": "df = pd.read_csv('adult_dataset.csv')",
      "metadata": {
        "trusted": true
      },
      "outputs": [],
      "execution_count": 4
    },
    {
      "id": "1efccebb-224d-41c9-a138-6c877b2ab865",
      "cell_type": "code",
      "source": "df",
      "metadata": {
        "trusted": true
      },
      "outputs": [
        {
          "execution_count": 5,
          "output_type": "execute_result",
          "data": {
            "text/plain": "       age     workclass  fnlwgt     education  educational-num  \\\n0       25       Private  226802          11th                7   \n1       38       Private   89814       HS-grad                9   \n2       28     Local-gov  336951    Assoc-acdm               12   \n3       44       Private  160323  Some-college               10   \n4       18             ?  103497  Some-college               10   \n...    ...           ...     ...           ...              ...   \n48837   27       Private  257302    Assoc-acdm               12   \n48838   40       Private  154374       HS-grad                9   \n48839   58       Private  151910       HS-grad                9   \n48840   22       Private  201490       HS-grad                9   \n48841   52  Self-emp-inc  287927       HS-grad                9   \n\n           marital-status         occupation relationship   race  gender  \\\n0           Never-married  Machine-op-inspct    Own-child  Black    Male   \n1      Married-civ-spouse    Farming-fishing      Husband  White    Male   \n2      Married-civ-spouse    Protective-serv      Husband  White    Male   \n3      Married-civ-spouse  Machine-op-inspct      Husband  Black    Male   \n4           Never-married                  ?    Own-child  White  Female   \n...                   ...                ...          ...    ...     ...   \n48837  Married-civ-spouse       Tech-support         Wife  White  Female   \n48838  Married-civ-spouse  Machine-op-inspct      Husband  White    Male   \n48839             Widowed       Adm-clerical    Unmarried  White  Female   \n48840       Never-married       Adm-clerical    Own-child  White    Male   \n48841  Married-civ-spouse    Exec-managerial         Wife  White  Female   \n\n       capital-gain  capital-loss  hours-per-week native-country income  \n0                 0             0              40  United-States  <=50K  \n1                 0             0              50  United-States  <=50K  \n2                 0             0              40  United-States   >50K  \n3              7688             0              40  United-States   >50K  \n4                 0             0              30  United-States  <=50K  \n...             ...           ...             ...            ...    ...  \n48837             0             0              38  United-States  <=50K  \n48838             0             0              40  United-States   >50K  \n48839             0             0              40  United-States  <=50K  \n48840             0             0              20  United-States  <=50K  \n48841         15024             0              40  United-States   >50K  \n\n[48842 rows x 15 columns]",
            "text/html": "<div>\n<style scoped>\n    .dataframe tbody tr th:only-of-type {\n        vertical-align: middle;\n    }\n\n    .dataframe tbody tr th {\n        vertical-align: top;\n    }\n\n    .dataframe thead th {\n        text-align: right;\n    }\n</style>\n<table border=\"1\" class=\"dataframe\">\n  <thead>\n    <tr style=\"text-align: right;\">\n      <th></th>\n      <th>age</th>\n      <th>workclass</th>\n      <th>fnlwgt</th>\n      <th>education</th>\n      <th>educational-num</th>\n      <th>marital-status</th>\n      <th>occupation</th>\n      <th>relationship</th>\n      <th>race</th>\n      <th>gender</th>\n      <th>capital-gain</th>\n      <th>capital-loss</th>\n      <th>hours-per-week</th>\n      <th>native-country</th>\n      <th>income</th>\n    </tr>\n  </thead>\n  <tbody>\n    <tr>\n      <th>0</th>\n      <td>25</td>\n      <td>Private</td>\n      <td>226802</td>\n      <td>11th</td>\n      <td>7</td>\n      <td>Never-married</td>\n      <td>Machine-op-inspct</td>\n      <td>Own-child</td>\n      <td>Black</td>\n      <td>Male</td>\n      <td>0</td>\n      <td>0</td>\n      <td>40</td>\n      <td>United-States</td>\n      <td>&lt;=50K</td>\n    </tr>\n    <tr>\n      <th>1</th>\n      <td>38</td>\n      <td>Private</td>\n      <td>89814</td>\n      <td>HS-grad</td>\n      <td>9</td>\n      <td>Married-civ-spouse</td>\n      <td>Farming-fishing</td>\n      <td>Husband</td>\n      <td>White</td>\n      <td>Male</td>\n      <td>0</td>\n      <td>0</td>\n      <td>50</td>\n      <td>United-States</td>\n      <td>&lt;=50K</td>\n    </tr>\n    <tr>\n      <th>2</th>\n      <td>28</td>\n      <td>Local-gov</td>\n      <td>336951</td>\n      <td>Assoc-acdm</td>\n      <td>12</td>\n      <td>Married-civ-spouse</td>\n      <td>Protective-serv</td>\n      <td>Husband</td>\n      <td>White</td>\n      <td>Male</td>\n      <td>0</td>\n      <td>0</td>\n      <td>40</td>\n      <td>United-States</td>\n      <td>&gt;50K</td>\n    </tr>\n    <tr>\n      <th>3</th>\n      <td>44</td>\n      <td>Private</td>\n      <td>160323</td>\n      <td>Some-college</td>\n      <td>10</td>\n      <td>Married-civ-spouse</td>\n      <td>Machine-op-inspct</td>\n      <td>Husband</td>\n      <td>Black</td>\n      <td>Male</td>\n      <td>7688</td>\n      <td>0</td>\n      <td>40</td>\n      <td>United-States</td>\n      <td>&gt;50K</td>\n    </tr>\n    <tr>\n      <th>4</th>\n      <td>18</td>\n      <td>?</td>\n      <td>103497</td>\n      <td>Some-college</td>\n      <td>10</td>\n      <td>Never-married</td>\n      <td>?</td>\n      <td>Own-child</td>\n      <td>White</td>\n      <td>Female</td>\n      <td>0</td>\n      <td>0</td>\n      <td>30</td>\n      <td>United-States</td>\n      <td>&lt;=50K</td>\n    </tr>\n    <tr>\n      <th>...</th>\n      <td>...</td>\n      <td>...</td>\n      <td>...</td>\n      <td>...</td>\n      <td>...</td>\n      <td>...</td>\n      <td>...</td>\n      <td>...</td>\n      <td>...</td>\n      <td>...</td>\n      <td>...</td>\n      <td>...</td>\n      <td>...</td>\n      <td>...</td>\n      <td>...</td>\n    </tr>\n    <tr>\n      <th>48837</th>\n      <td>27</td>\n      <td>Private</td>\n      <td>257302</td>\n      <td>Assoc-acdm</td>\n      <td>12</td>\n      <td>Married-civ-spouse</td>\n      <td>Tech-support</td>\n      <td>Wife</td>\n      <td>White</td>\n      <td>Female</td>\n      <td>0</td>\n      <td>0</td>\n      <td>38</td>\n      <td>United-States</td>\n      <td>&lt;=50K</td>\n    </tr>\n    <tr>\n      <th>48838</th>\n      <td>40</td>\n      <td>Private</td>\n      <td>154374</td>\n      <td>HS-grad</td>\n      <td>9</td>\n      <td>Married-civ-spouse</td>\n      <td>Machine-op-inspct</td>\n      <td>Husband</td>\n      <td>White</td>\n      <td>Male</td>\n      <td>0</td>\n      <td>0</td>\n      <td>40</td>\n      <td>United-States</td>\n      <td>&gt;50K</td>\n    </tr>\n    <tr>\n      <th>48839</th>\n      <td>58</td>\n      <td>Private</td>\n      <td>151910</td>\n      <td>HS-grad</td>\n      <td>9</td>\n      <td>Widowed</td>\n      <td>Adm-clerical</td>\n      <td>Unmarried</td>\n      <td>White</td>\n      <td>Female</td>\n      <td>0</td>\n      <td>0</td>\n      <td>40</td>\n      <td>United-States</td>\n      <td>&lt;=50K</td>\n    </tr>\n    <tr>\n      <th>48840</th>\n      <td>22</td>\n      <td>Private</td>\n      <td>201490</td>\n      <td>HS-grad</td>\n      <td>9</td>\n      <td>Never-married</td>\n      <td>Adm-clerical</td>\n      <td>Own-child</td>\n      <td>White</td>\n      <td>Male</td>\n      <td>0</td>\n      <td>0</td>\n      <td>20</td>\n      <td>United-States</td>\n      <td>&lt;=50K</td>\n    </tr>\n    <tr>\n      <th>48841</th>\n      <td>52</td>\n      <td>Self-emp-inc</td>\n      <td>287927</td>\n      <td>HS-grad</td>\n      <td>9</td>\n      <td>Married-civ-spouse</td>\n      <td>Exec-managerial</td>\n      <td>Wife</td>\n      <td>White</td>\n      <td>Female</td>\n      <td>15024</td>\n      <td>0</td>\n      <td>40</td>\n      <td>United-States</td>\n      <td>&gt;50K</td>\n    </tr>\n  </tbody>\n</table>\n<p>48842 rows × 15 columns</p>\n</div>"
          },
          "metadata": {}
        }
      ],
      "execution_count": 5
    },
    {
      "id": "05a66676-6223-4769-a8b0-1120a8c5ea31",
      "cell_type": "code",
      "source": "df.describe()",
      "metadata": {
        "trusted": true
      },
      "outputs": [
        {
          "execution_count": 7,
          "output_type": "execute_result",
          "data": {
            "text/plain": "                age        fnlwgt  educational-num  capital-gain  \\\ncount  48842.000000  4.884200e+04     48842.000000  48842.000000   \nmean      38.643585  1.896641e+05        10.078089   1079.067626   \nstd       13.710510  1.056040e+05         2.570973   7452.019058   \nmin       17.000000  1.228500e+04         1.000000      0.000000   \n25%       28.000000  1.175505e+05         9.000000      0.000000   \n50%       37.000000  1.781445e+05        10.000000      0.000000   \n75%       48.000000  2.376420e+05        12.000000      0.000000   \nmax       90.000000  1.490400e+06        16.000000  99999.000000   \n\n       capital-loss  hours-per-week  \ncount  48842.000000    48842.000000  \nmean      87.502314       40.422382  \nstd      403.004552       12.391444  \nmin        0.000000        1.000000  \n25%        0.000000       40.000000  \n50%        0.000000       40.000000  \n75%        0.000000       45.000000  \nmax     4356.000000       99.000000  ",
            "text/html": "<div>\n<style scoped>\n    .dataframe tbody tr th:only-of-type {\n        vertical-align: middle;\n    }\n\n    .dataframe tbody tr th {\n        vertical-align: top;\n    }\n\n    .dataframe thead th {\n        text-align: right;\n    }\n</style>\n<table border=\"1\" class=\"dataframe\">\n  <thead>\n    <tr style=\"text-align: right;\">\n      <th></th>\n      <th>age</th>\n      <th>fnlwgt</th>\n      <th>educational-num</th>\n      <th>capital-gain</th>\n      <th>capital-loss</th>\n      <th>hours-per-week</th>\n    </tr>\n  </thead>\n  <tbody>\n    <tr>\n      <th>count</th>\n      <td>48842.000000</td>\n      <td>4.884200e+04</td>\n      <td>48842.000000</td>\n      <td>48842.000000</td>\n      <td>48842.000000</td>\n      <td>48842.000000</td>\n    </tr>\n    <tr>\n      <th>mean</th>\n      <td>38.643585</td>\n      <td>1.896641e+05</td>\n      <td>10.078089</td>\n      <td>1079.067626</td>\n      <td>87.502314</td>\n      <td>40.422382</td>\n    </tr>\n    <tr>\n      <th>std</th>\n      <td>13.710510</td>\n      <td>1.056040e+05</td>\n      <td>2.570973</td>\n      <td>7452.019058</td>\n      <td>403.004552</td>\n      <td>12.391444</td>\n    </tr>\n    <tr>\n      <th>min</th>\n      <td>17.000000</td>\n      <td>1.228500e+04</td>\n      <td>1.000000</td>\n      <td>0.000000</td>\n      <td>0.000000</td>\n      <td>1.000000</td>\n    </tr>\n    <tr>\n      <th>25%</th>\n      <td>28.000000</td>\n      <td>1.175505e+05</td>\n      <td>9.000000</td>\n      <td>0.000000</td>\n      <td>0.000000</td>\n      <td>40.000000</td>\n    </tr>\n    <tr>\n      <th>50%</th>\n      <td>37.000000</td>\n      <td>1.781445e+05</td>\n      <td>10.000000</td>\n      <td>0.000000</td>\n      <td>0.000000</td>\n      <td>40.000000</td>\n    </tr>\n    <tr>\n      <th>75%</th>\n      <td>48.000000</td>\n      <td>2.376420e+05</td>\n      <td>12.000000</td>\n      <td>0.000000</td>\n      <td>0.000000</td>\n      <td>45.000000</td>\n    </tr>\n    <tr>\n      <th>max</th>\n      <td>90.000000</td>\n      <td>1.490400e+06</td>\n      <td>16.000000</td>\n      <td>99999.000000</td>\n      <td>4356.000000</td>\n      <td>99.000000</td>\n    </tr>\n  </tbody>\n</table>\n</div>"
          },
          "metadata": {}
        }
      ],
      "execution_count": 7
    },
    {
      "id": "ee898e2a-3566-43d3-bee7-afc08ec9f3fb",
      "cell_type": "code",
      "source": "df.info()",
      "metadata": {
        "trusted": true
      },
      "outputs": [
        {
          "name": "stdout",
          "output_type": "stream",
          "text": "<class 'pandas.core.frame.DataFrame'>\nRangeIndex: 48842 entries, 0 to 48841\nData columns (total 15 columns):\n #   Column           Non-Null Count  Dtype \n---  ------           --------------  ----- \n 0   age              48842 non-null  int64 \n 1   workclass        48842 non-null  object\n 2   fnlwgt           48842 non-null  int64 \n 3   education        48842 non-null  object\n 4   educational-num  48842 non-null  int64 \n 5   marital-status   48842 non-null  object\n 6   occupation       48842 non-null  object\n 7   relationship     48842 non-null  object\n 8   race             48842 non-null  object\n 9   gender           48842 non-null  object\n 10  capital-gain     48842 non-null  int64 \n 11  capital-loss     48842 non-null  int64 \n 12  hours-per-week   48842 non-null  int64 \n 13  native-country   48842 non-null  object\n 14  income           48842 non-null  object\ndtypes: int64(6), object(9)\nmemory usage: 3.9+ MB\n"
        }
      ],
      "execution_count": 8
    },
    {
      "id": "a9415b7c-36ad-47e5-8189-d79e24e8e2bc",
      "cell_type": "code",
      "source": "# First subset: Like and Share\ndf_subset_1 = df[['workclass','education','capital-gain']]\ndf_subset_1",
      "metadata": {
        "trusted": true
      },
      "outputs": [
        {
          "execution_count": 9,
          "output_type": "execute_result",
          "data": {
            "text/plain": "          workclass     education  capital-gain\n0           Private          11th             0\n1           Private       HS-grad             0\n2         Local-gov    Assoc-acdm             0\n3           Private  Some-college          7688\n4                 ?  Some-college             0\n...             ...           ...           ...\n48837       Private    Assoc-acdm             0\n48838       Private       HS-grad             0\n48839       Private       HS-grad             0\n48840       Private       HS-grad             0\n48841  Self-emp-inc       HS-grad         15024\n\n[48842 rows x 3 columns]",
            "text/html": "<div>\n<style scoped>\n    .dataframe tbody tr th:only-of-type {\n        vertical-align: middle;\n    }\n\n    .dataframe tbody tr th {\n        vertical-align: top;\n    }\n\n    .dataframe thead th {\n        text-align: right;\n    }\n</style>\n<table border=\"1\" class=\"dataframe\">\n  <thead>\n    <tr style=\"text-align: right;\">\n      <th></th>\n      <th>workclass</th>\n      <th>education</th>\n      <th>capital-gain</th>\n    </tr>\n  </thead>\n  <tbody>\n    <tr>\n      <th>0</th>\n      <td>Private</td>\n      <td>11th</td>\n      <td>0</td>\n    </tr>\n    <tr>\n      <th>1</th>\n      <td>Private</td>\n      <td>HS-grad</td>\n      <td>0</td>\n    </tr>\n    <tr>\n      <th>2</th>\n      <td>Local-gov</td>\n      <td>Assoc-acdm</td>\n      <td>0</td>\n    </tr>\n    <tr>\n      <th>3</th>\n      <td>Private</td>\n      <td>Some-college</td>\n      <td>7688</td>\n    </tr>\n    <tr>\n      <th>4</th>\n      <td>?</td>\n      <td>Some-college</td>\n      <td>0</td>\n    </tr>\n    <tr>\n      <th>...</th>\n      <td>...</td>\n      <td>...</td>\n      <td>...</td>\n    </tr>\n    <tr>\n      <th>48837</th>\n      <td>Private</td>\n      <td>Assoc-acdm</td>\n      <td>0</td>\n    </tr>\n    <tr>\n      <th>48838</th>\n      <td>Private</td>\n      <td>HS-grad</td>\n      <td>0</td>\n    </tr>\n    <tr>\n      <th>48839</th>\n      <td>Private</td>\n      <td>HS-grad</td>\n      <td>0</td>\n    </tr>\n    <tr>\n      <th>48840</th>\n      <td>Private</td>\n      <td>HS-grad</td>\n      <td>0</td>\n    </tr>\n    <tr>\n      <th>48841</th>\n      <td>Self-emp-inc</td>\n      <td>HS-grad</td>\n      <td>15024</td>\n    </tr>\n  </tbody>\n</table>\n<p>48842 rows × 3 columns</p>\n</div>"
          },
          "metadata": {}
        }
      ],
      "execution_count": 9
    },
    {
      "id": "fd5bd2bc-103a-4020-8b16-b4f11668daf6",
      "cell_type": "code",
      "source": "# second subset: Comment and Type\ndf_subset_2 = df[['race','native-country']]\ndf_subset_2\n",
      "metadata": {
        "trusted": true
      },
      "outputs": [
        {
          "execution_count": 10,
          "output_type": "execute_result",
          "data": {
            "text/plain": "        race native-country\n0      Black  United-States\n1      White  United-States\n2      White  United-States\n3      Black  United-States\n4      White  United-States\n...      ...            ...\n48837  White  United-States\n48838  White  United-States\n48839  White  United-States\n48840  White  United-States\n48841  White  United-States\n\n[48842 rows x 2 columns]",
            "text/html": "<div>\n<style scoped>\n    .dataframe tbody tr th:only-of-type {\n        vertical-align: middle;\n    }\n\n    .dataframe tbody tr th {\n        vertical-align: top;\n    }\n\n    .dataframe thead th {\n        text-align: right;\n    }\n</style>\n<table border=\"1\" class=\"dataframe\">\n  <thead>\n    <tr style=\"text-align: right;\">\n      <th></th>\n      <th>race</th>\n      <th>native-country</th>\n    </tr>\n  </thead>\n  <tbody>\n    <tr>\n      <th>0</th>\n      <td>Black</td>\n      <td>United-States</td>\n    </tr>\n    <tr>\n      <th>1</th>\n      <td>White</td>\n      <td>United-States</td>\n    </tr>\n    <tr>\n      <th>2</th>\n      <td>White</td>\n      <td>United-States</td>\n    </tr>\n    <tr>\n      <th>3</th>\n      <td>Black</td>\n      <td>United-States</td>\n    </tr>\n    <tr>\n      <th>4</th>\n      <td>White</td>\n      <td>United-States</td>\n    </tr>\n    <tr>\n      <th>...</th>\n      <td>...</td>\n      <td>...</td>\n    </tr>\n    <tr>\n      <th>48837</th>\n      <td>White</td>\n      <td>United-States</td>\n    </tr>\n    <tr>\n      <th>48838</th>\n      <td>White</td>\n      <td>United-States</td>\n    </tr>\n    <tr>\n      <th>48839</th>\n      <td>White</td>\n      <td>United-States</td>\n    </tr>\n    <tr>\n      <th>48840</th>\n      <td>White</td>\n      <td>United-States</td>\n    </tr>\n    <tr>\n      <th>48841</th>\n      <td>White</td>\n      <td>United-States</td>\n    </tr>\n  </tbody>\n</table>\n<p>48842 rows × 2 columns</p>\n</div>"
          },
          "metadata": {}
        }
      ],
      "execution_count": 10
    },
    {
      "id": "1c8f4970-d87f-4db4-b71e-dee0c524e053",
      "cell_type": "code",
      "source": "merged_data  = pd.concat([df_subset_1,df_subset_2],axis=1)\nmerged_data",
      "metadata": {
        "trusted": true
      },
      "outputs": [
        {
          "execution_count": 11,
          "output_type": "execute_result",
          "data": {
            "text/plain": "          workclass     education  capital-gain   race native-country\n0           Private          11th             0  Black  United-States\n1           Private       HS-grad             0  White  United-States\n2         Local-gov    Assoc-acdm             0  White  United-States\n3           Private  Some-college          7688  Black  United-States\n4                 ?  Some-college             0  White  United-States\n...             ...           ...           ...    ...            ...\n48837       Private    Assoc-acdm             0  White  United-States\n48838       Private       HS-grad             0  White  United-States\n48839       Private       HS-grad             0  White  United-States\n48840       Private       HS-grad             0  White  United-States\n48841  Self-emp-inc       HS-grad         15024  White  United-States\n\n[48842 rows x 5 columns]",
            "text/html": "<div>\n<style scoped>\n    .dataframe tbody tr th:only-of-type {\n        vertical-align: middle;\n    }\n\n    .dataframe tbody tr th {\n        vertical-align: top;\n    }\n\n    .dataframe thead th {\n        text-align: right;\n    }\n</style>\n<table border=\"1\" class=\"dataframe\">\n  <thead>\n    <tr style=\"text-align: right;\">\n      <th></th>\n      <th>workclass</th>\n      <th>education</th>\n      <th>capital-gain</th>\n      <th>race</th>\n      <th>native-country</th>\n    </tr>\n  </thead>\n  <tbody>\n    <tr>\n      <th>0</th>\n      <td>Private</td>\n      <td>11th</td>\n      <td>0</td>\n      <td>Black</td>\n      <td>United-States</td>\n    </tr>\n    <tr>\n      <th>1</th>\n      <td>Private</td>\n      <td>HS-grad</td>\n      <td>0</td>\n      <td>White</td>\n      <td>United-States</td>\n    </tr>\n    <tr>\n      <th>2</th>\n      <td>Local-gov</td>\n      <td>Assoc-acdm</td>\n      <td>0</td>\n      <td>White</td>\n      <td>United-States</td>\n    </tr>\n    <tr>\n      <th>3</th>\n      <td>Private</td>\n      <td>Some-college</td>\n      <td>7688</td>\n      <td>Black</td>\n      <td>United-States</td>\n    </tr>\n    <tr>\n      <th>4</th>\n      <td>?</td>\n      <td>Some-college</td>\n      <td>0</td>\n      <td>White</td>\n      <td>United-States</td>\n    </tr>\n    <tr>\n      <th>...</th>\n      <td>...</td>\n      <td>...</td>\n      <td>...</td>\n      <td>...</td>\n      <td>...</td>\n    </tr>\n    <tr>\n      <th>48837</th>\n      <td>Private</td>\n      <td>Assoc-acdm</td>\n      <td>0</td>\n      <td>White</td>\n      <td>United-States</td>\n    </tr>\n    <tr>\n      <th>48838</th>\n      <td>Private</td>\n      <td>HS-grad</td>\n      <td>0</td>\n      <td>White</td>\n      <td>United-States</td>\n    </tr>\n    <tr>\n      <th>48839</th>\n      <td>Private</td>\n      <td>HS-grad</td>\n      <td>0</td>\n      <td>White</td>\n      <td>United-States</td>\n    </tr>\n    <tr>\n      <th>48840</th>\n      <td>Private</td>\n      <td>HS-grad</td>\n      <td>0</td>\n      <td>White</td>\n      <td>United-States</td>\n    </tr>\n    <tr>\n      <th>48841</th>\n      <td>Self-emp-inc</td>\n      <td>HS-grad</td>\n      <td>15024</td>\n      <td>White</td>\n      <td>United-States</td>\n    </tr>\n  </tbody>\n</table>\n<p>48842 rows × 5 columns</p>\n</div>"
          },
          "metadata": {}
        }
      ],
      "execution_count": 11
    },
    {
      "id": "bc00fca8-1d8f-4d3c-bb47-d6893868c24f",
      "cell_type": "code",
      "source": "# Sorting merged_data in descending order wrt 'capital-gain'\nmerged_data.sort_values(by=['capital-gain'],ascending=False)",
      "metadata": {
        "trusted": true
      },
      "outputs": [
        {
          "execution_count": 12,
          "output_type": "execute_result",
          "data": {
            "text/plain": "          workclass     education  capital-gain   race      native-country\n28936  Self-emp-inc       HS-grad         99999  White                   ?\n18384  Self-emp-inc  Some-college         99999  White       United-States\n34689  Self-emp-inc   Prof-school         99999  White       United-States\n34744       Private   Prof-school         99999  White       United-States\n48519       Private   Prof-school         99999  White       United-States\n...             ...           ...           ...    ...                 ...\n16967             ?       7th-8th             0  White       United-States\n16968     Local-gov     Bachelors             0  White       United-States\n16969       Private       Masters             0  White  Dominican-Republic\n16970       Private       HS-grad             0  White       United-States\n24421       Private       HS-grad             0  White       United-States\n\n[48842 rows x 5 columns]",
            "text/html": "<div>\n<style scoped>\n    .dataframe tbody tr th:only-of-type {\n        vertical-align: middle;\n    }\n\n    .dataframe tbody tr th {\n        vertical-align: top;\n    }\n\n    .dataframe thead th {\n        text-align: right;\n    }\n</style>\n<table border=\"1\" class=\"dataframe\">\n  <thead>\n    <tr style=\"text-align: right;\">\n      <th></th>\n      <th>workclass</th>\n      <th>education</th>\n      <th>capital-gain</th>\n      <th>race</th>\n      <th>native-country</th>\n    </tr>\n  </thead>\n  <tbody>\n    <tr>\n      <th>28936</th>\n      <td>Self-emp-inc</td>\n      <td>HS-grad</td>\n      <td>99999</td>\n      <td>White</td>\n      <td>?</td>\n    </tr>\n    <tr>\n      <th>18384</th>\n      <td>Self-emp-inc</td>\n      <td>Some-college</td>\n      <td>99999</td>\n      <td>White</td>\n      <td>United-States</td>\n    </tr>\n    <tr>\n      <th>34689</th>\n      <td>Self-emp-inc</td>\n      <td>Prof-school</td>\n      <td>99999</td>\n      <td>White</td>\n      <td>United-States</td>\n    </tr>\n    <tr>\n      <th>34744</th>\n      <td>Private</td>\n      <td>Prof-school</td>\n      <td>99999</td>\n      <td>White</td>\n      <td>United-States</td>\n    </tr>\n    <tr>\n      <th>48519</th>\n      <td>Private</td>\n      <td>Prof-school</td>\n      <td>99999</td>\n      <td>White</td>\n      <td>United-States</td>\n    </tr>\n    <tr>\n      <th>...</th>\n      <td>...</td>\n      <td>...</td>\n      <td>...</td>\n      <td>...</td>\n      <td>...</td>\n    </tr>\n    <tr>\n      <th>16967</th>\n      <td>?</td>\n      <td>7th-8th</td>\n      <td>0</td>\n      <td>White</td>\n      <td>United-States</td>\n    </tr>\n    <tr>\n      <th>16968</th>\n      <td>Local-gov</td>\n      <td>Bachelors</td>\n      <td>0</td>\n      <td>White</td>\n      <td>United-States</td>\n    </tr>\n    <tr>\n      <th>16969</th>\n      <td>Private</td>\n      <td>Masters</td>\n      <td>0</td>\n      <td>White</td>\n      <td>Dominican-Republic</td>\n    </tr>\n    <tr>\n      <th>16970</th>\n      <td>Private</td>\n      <td>HS-grad</td>\n      <td>0</td>\n      <td>White</td>\n      <td>United-States</td>\n    </tr>\n    <tr>\n      <th>24421</th>\n      <td>Private</td>\n      <td>HS-grad</td>\n      <td>0</td>\n      <td>White</td>\n      <td>United-States</td>\n    </tr>\n  </tbody>\n</table>\n<p>48842 rows × 5 columns</p>\n</div>"
          },
          "metadata": {}
        }
      ],
      "execution_count": 12
    },
    {
      "id": "0fc834c0-fd10-41e5-840a-cea2b13e486b",
      "cell_type": "code",
      "source": "# Method 1\nmerged_data.transpose()",
      "metadata": {
        "trusted": true
      },
      "outputs": [
        {
          "execution_count": 13,
          "output_type": "execute_result",
          "data": {
            "text/plain": "                        0              1              2              3      \\\nworkclass             Private        Private      Local-gov        Private   \neducation                11th        HS-grad     Assoc-acdm   Some-college   \ncapital-gain                0              0              0           7688   \nrace                    Black          White          White          Black   \nnative-country  United-States  United-States  United-States  United-States   \n\n                        4              5              6                 7      \\\nworkclass                   ?        Private              ?  Self-emp-not-inc   \neducation        Some-college           10th        HS-grad       Prof-school   \ncapital-gain                0              0              0              3103   \nrace                    White          White          Black             White   \nnative-country  United-States  United-States  United-States     United-States   \n\n                        8              9      ...               48832  \\\nworkclass             Private        Private  ...             Private   \neducation        Some-college        7th-8th  ...                10th   \ncapital-gain                0              0  ...                   0   \nrace                    White          White  ...  Amer-Indian-Eskimo   \nnative-country  United-States  United-States  ...       United-States   \n\n                        48833               48834          48835  \\\nworkclass             Private             Private        Private   \neducation           Assoc-voc             Masters        Masters   \ncapital-gain                0                   0              0   \nrace                    White  Asian-Pac-Islander          White   \nnative-country  United-States              Taiwan  United-States   \n\n                        48836          48837          48838          48839  \\\nworkclass             Private        Private        Private        Private   \neducation        Some-college     Assoc-acdm        HS-grad        HS-grad   \ncapital-gain                0              0              0              0   \nrace                    White          White          White          White   \nnative-country  United-States  United-States  United-States  United-States   \n\n                        48840          48841  \nworkclass             Private   Self-emp-inc  \neducation             HS-grad        HS-grad  \ncapital-gain                0          15024  \nrace                    White          White  \nnative-country  United-States  United-States  \n\n[5 rows x 48842 columns]",
            "text/html": "<div>\n<style scoped>\n    .dataframe tbody tr th:only-of-type {\n        vertical-align: middle;\n    }\n\n    .dataframe tbody tr th {\n        vertical-align: top;\n    }\n\n    .dataframe thead th {\n        text-align: right;\n    }\n</style>\n<table border=\"1\" class=\"dataframe\">\n  <thead>\n    <tr style=\"text-align: right;\">\n      <th></th>\n      <th>0</th>\n      <th>1</th>\n      <th>2</th>\n      <th>3</th>\n      <th>4</th>\n      <th>5</th>\n      <th>6</th>\n      <th>7</th>\n      <th>8</th>\n      <th>9</th>\n      <th>...</th>\n      <th>48832</th>\n      <th>48833</th>\n      <th>48834</th>\n      <th>48835</th>\n      <th>48836</th>\n      <th>48837</th>\n      <th>48838</th>\n      <th>48839</th>\n      <th>48840</th>\n      <th>48841</th>\n    </tr>\n  </thead>\n  <tbody>\n    <tr>\n      <th>workclass</th>\n      <td>Private</td>\n      <td>Private</td>\n      <td>Local-gov</td>\n      <td>Private</td>\n      <td>?</td>\n      <td>Private</td>\n      <td>?</td>\n      <td>Self-emp-not-inc</td>\n      <td>Private</td>\n      <td>Private</td>\n      <td>...</td>\n      <td>Private</td>\n      <td>Private</td>\n      <td>Private</td>\n      <td>Private</td>\n      <td>Private</td>\n      <td>Private</td>\n      <td>Private</td>\n      <td>Private</td>\n      <td>Private</td>\n      <td>Self-emp-inc</td>\n    </tr>\n    <tr>\n      <th>education</th>\n      <td>11th</td>\n      <td>HS-grad</td>\n      <td>Assoc-acdm</td>\n      <td>Some-college</td>\n      <td>Some-college</td>\n      <td>10th</td>\n      <td>HS-grad</td>\n      <td>Prof-school</td>\n      <td>Some-college</td>\n      <td>7th-8th</td>\n      <td>...</td>\n      <td>10th</td>\n      <td>Assoc-voc</td>\n      <td>Masters</td>\n      <td>Masters</td>\n      <td>Some-college</td>\n      <td>Assoc-acdm</td>\n      <td>HS-grad</td>\n      <td>HS-grad</td>\n      <td>HS-grad</td>\n      <td>HS-grad</td>\n    </tr>\n    <tr>\n      <th>capital-gain</th>\n      <td>0</td>\n      <td>0</td>\n      <td>0</td>\n      <td>7688</td>\n      <td>0</td>\n      <td>0</td>\n      <td>0</td>\n      <td>3103</td>\n      <td>0</td>\n      <td>0</td>\n      <td>...</td>\n      <td>0</td>\n      <td>0</td>\n      <td>0</td>\n      <td>0</td>\n      <td>0</td>\n      <td>0</td>\n      <td>0</td>\n      <td>0</td>\n      <td>0</td>\n      <td>15024</td>\n    </tr>\n    <tr>\n      <th>race</th>\n      <td>Black</td>\n      <td>White</td>\n      <td>White</td>\n      <td>Black</td>\n      <td>White</td>\n      <td>White</td>\n      <td>Black</td>\n      <td>White</td>\n      <td>White</td>\n      <td>White</td>\n      <td>...</td>\n      <td>Amer-Indian-Eskimo</td>\n      <td>White</td>\n      <td>Asian-Pac-Islander</td>\n      <td>White</td>\n      <td>White</td>\n      <td>White</td>\n      <td>White</td>\n      <td>White</td>\n      <td>White</td>\n      <td>White</td>\n    </tr>\n    <tr>\n      <th>native-country</th>\n      <td>United-States</td>\n      <td>United-States</td>\n      <td>United-States</td>\n      <td>United-States</td>\n      <td>United-States</td>\n      <td>United-States</td>\n      <td>United-States</td>\n      <td>United-States</td>\n      <td>United-States</td>\n      <td>United-States</td>\n      <td>...</td>\n      <td>United-States</td>\n      <td>United-States</td>\n      <td>Taiwan</td>\n      <td>United-States</td>\n      <td>United-States</td>\n      <td>United-States</td>\n      <td>United-States</td>\n      <td>United-States</td>\n      <td>United-States</td>\n      <td>United-States</td>\n    </tr>\n  </tbody>\n</table>\n<p>5 rows × 48842 columns</p>\n</div>"
          },
          "metadata": {}
        }
      ],
      "execution_count": 13
    },
    {
      "id": "1a7485a4-3490-4791-84e2-456dd9f20bad",
      "cell_type": "code",
      "source": "# Method 2\nmerged_data.T\n",
      "metadata": {
        "trusted": true
      },
      "outputs": [
        {
          "execution_count": 14,
          "output_type": "execute_result",
          "data": {
            "text/plain": "                        0              1              2              3      \\\nworkclass             Private        Private      Local-gov        Private   \neducation                11th        HS-grad     Assoc-acdm   Some-college   \ncapital-gain                0              0              0           7688   \nrace                    Black          White          White          Black   \nnative-country  United-States  United-States  United-States  United-States   \n\n                        4              5              6                 7      \\\nworkclass                   ?        Private              ?  Self-emp-not-inc   \neducation        Some-college           10th        HS-grad       Prof-school   \ncapital-gain                0              0              0              3103   \nrace                    White          White          Black             White   \nnative-country  United-States  United-States  United-States     United-States   \n\n                        8              9      ...               48832  \\\nworkclass             Private        Private  ...             Private   \neducation        Some-college        7th-8th  ...                10th   \ncapital-gain                0              0  ...                   0   \nrace                    White          White  ...  Amer-Indian-Eskimo   \nnative-country  United-States  United-States  ...       United-States   \n\n                        48833               48834          48835  \\\nworkclass             Private             Private        Private   \neducation           Assoc-voc             Masters        Masters   \ncapital-gain                0                   0              0   \nrace                    White  Asian-Pac-Islander          White   \nnative-country  United-States              Taiwan  United-States   \n\n                        48836          48837          48838          48839  \\\nworkclass             Private        Private        Private        Private   \neducation        Some-college     Assoc-acdm        HS-grad        HS-grad   \ncapital-gain                0              0              0              0   \nrace                    White          White          White          White   \nnative-country  United-States  United-States  United-States  United-States   \n\n                        48840          48841  \nworkclass             Private   Self-emp-inc  \neducation             HS-grad        HS-grad  \ncapital-gain                0          15024  \nrace                    White          White  \nnative-country  United-States  United-States  \n\n[5 rows x 48842 columns]",
            "text/html": "<div>\n<style scoped>\n    .dataframe tbody tr th:only-of-type {\n        vertical-align: middle;\n    }\n\n    .dataframe tbody tr th {\n        vertical-align: top;\n    }\n\n    .dataframe thead th {\n        text-align: right;\n    }\n</style>\n<table border=\"1\" class=\"dataframe\">\n  <thead>\n    <tr style=\"text-align: right;\">\n      <th></th>\n      <th>0</th>\n      <th>1</th>\n      <th>2</th>\n      <th>3</th>\n      <th>4</th>\n      <th>5</th>\n      <th>6</th>\n      <th>7</th>\n      <th>8</th>\n      <th>9</th>\n      <th>...</th>\n      <th>48832</th>\n      <th>48833</th>\n      <th>48834</th>\n      <th>48835</th>\n      <th>48836</th>\n      <th>48837</th>\n      <th>48838</th>\n      <th>48839</th>\n      <th>48840</th>\n      <th>48841</th>\n    </tr>\n  </thead>\n  <tbody>\n    <tr>\n      <th>workclass</th>\n      <td>Private</td>\n      <td>Private</td>\n      <td>Local-gov</td>\n      <td>Private</td>\n      <td>?</td>\n      <td>Private</td>\n      <td>?</td>\n      <td>Self-emp-not-inc</td>\n      <td>Private</td>\n      <td>Private</td>\n      <td>...</td>\n      <td>Private</td>\n      <td>Private</td>\n      <td>Private</td>\n      <td>Private</td>\n      <td>Private</td>\n      <td>Private</td>\n      <td>Private</td>\n      <td>Private</td>\n      <td>Private</td>\n      <td>Self-emp-inc</td>\n    </tr>\n    <tr>\n      <th>education</th>\n      <td>11th</td>\n      <td>HS-grad</td>\n      <td>Assoc-acdm</td>\n      <td>Some-college</td>\n      <td>Some-college</td>\n      <td>10th</td>\n      <td>HS-grad</td>\n      <td>Prof-school</td>\n      <td>Some-college</td>\n      <td>7th-8th</td>\n      <td>...</td>\n      <td>10th</td>\n      <td>Assoc-voc</td>\n      <td>Masters</td>\n      <td>Masters</td>\n      <td>Some-college</td>\n      <td>Assoc-acdm</td>\n      <td>HS-grad</td>\n      <td>HS-grad</td>\n      <td>HS-grad</td>\n      <td>HS-grad</td>\n    </tr>\n    <tr>\n      <th>capital-gain</th>\n      <td>0</td>\n      <td>0</td>\n      <td>0</td>\n      <td>7688</td>\n      <td>0</td>\n      <td>0</td>\n      <td>0</td>\n      <td>3103</td>\n      <td>0</td>\n      <td>0</td>\n      <td>...</td>\n      <td>0</td>\n      <td>0</td>\n      <td>0</td>\n      <td>0</td>\n      <td>0</td>\n      <td>0</td>\n      <td>0</td>\n      <td>0</td>\n      <td>0</td>\n      <td>15024</td>\n    </tr>\n    <tr>\n      <th>race</th>\n      <td>Black</td>\n      <td>White</td>\n      <td>White</td>\n      <td>Black</td>\n      <td>White</td>\n      <td>White</td>\n      <td>Black</td>\n      <td>White</td>\n      <td>White</td>\n      <td>White</td>\n      <td>...</td>\n      <td>Amer-Indian-Eskimo</td>\n      <td>White</td>\n      <td>Asian-Pac-Islander</td>\n      <td>White</td>\n      <td>White</td>\n      <td>White</td>\n      <td>White</td>\n      <td>White</td>\n      <td>White</td>\n      <td>White</td>\n    </tr>\n    <tr>\n      <th>native-country</th>\n      <td>United-States</td>\n      <td>United-States</td>\n      <td>United-States</td>\n      <td>United-States</td>\n      <td>United-States</td>\n      <td>United-States</td>\n      <td>United-States</td>\n      <td>United-States</td>\n      <td>United-States</td>\n      <td>United-States</td>\n      <td>...</td>\n      <td>United-States</td>\n      <td>United-States</td>\n      <td>Taiwan</td>\n      <td>United-States</td>\n      <td>United-States</td>\n      <td>United-States</td>\n      <td>United-States</td>\n      <td>United-States</td>\n      <td>United-States</td>\n      <td>United-States</td>\n    </tr>\n  </tbody>\n</table>\n<p>5 rows × 48842 columns</p>\n</div>"
          },
          "metadata": {}
        }
      ],
      "execution_count": 14
    },
    {
      "id": "9307c750-dda8-4f32-8411-85f69eeea058",
      "cell_type": "code",
      "source": "df",
      "metadata": {
        "trusted": true
      },
      "outputs": [
        {
          "execution_count": 15,
          "output_type": "execute_result",
          "data": {
            "text/plain": "       age     workclass  fnlwgt     education  educational-num  \\\n0       25       Private  226802          11th                7   \n1       38       Private   89814       HS-grad                9   \n2       28     Local-gov  336951    Assoc-acdm               12   \n3       44       Private  160323  Some-college               10   \n4       18             ?  103497  Some-college               10   \n...    ...           ...     ...           ...              ...   \n48837   27       Private  257302    Assoc-acdm               12   \n48838   40       Private  154374       HS-grad                9   \n48839   58       Private  151910       HS-grad                9   \n48840   22       Private  201490       HS-grad                9   \n48841   52  Self-emp-inc  287927       HS-grad                9   \n\n           marital-status         occupation relationship   race  gender  \\\n0           Never-married  Machine-op-inspct    Own-child  Black    Male   \n1      Married-civ-spouse    Farming-fishing      Husband  White    Male   \n2      Married-civ-spouse    Protective-serv      Husband  White    Male   \n3      Married-civ-spouse  Machine-op-inspct      Husband  Black    Male   \n4           Never-married                  ?    Own-child  White  Female   \n...                   ...                ...          ...    ...     ...   \n48837  Married-civ-spouse       Tech-support         Wife  White  Female   \n48838  Married-civ-spouse  Machine-op-inspct      Husband  White    Male   \n48839             Widowed       Adm-clerical    Unmarried  White  Female   \n48840       Never-married       Adm-clerical    Own-child  White    Male   \n48841  Married-civ-spouse    Exec-managerial         Wife  White  Female   \n\n       capital-gain  capital-loss  hours-per-week native-country income  \n0                 0             0              40  United-States  <=50K  \n1                 0             0              50  United-States  <=50K  \n2                 0             0              40  United-States   >50K  \n3              7688             0              40  United-States   >50K  \n4                 0             0              30  United-States  <=50K  \n...             ...           ...             ...            ...    ...  \n48837             0             0              38  United-States  <=50K  \n48838             0             0              40  United-States   >50K  \n48839             0             0              40  United-States  <=50K  \n48840             0             0              20  United-States  <=50K  \n48841         15024             0              40  United-States   >50K  \n\n[48842 rows x 15 columns]",
            "text/html": "<div>\n<style scoped>\n    .dataframe tbody tr th:only-of-type {\n        vertical-align: middle;\n    }\n\n    .dataframe tbody tr th {\n        vertical-align: top;\n    }\n\n    .dataframe thead th {\n        text-align: right;\n    }\n</style>\n<table border=\"1\" class=\"dataframe\">\n  <thead>\n    <tr style=\"text-align: right;\">\n      <th></th>\n      <th>age</th>\n      <th>workclass</th>\n      <th>fnlwgt</th>\n      <th>education</th>\n      <th>educational-num</th>\n      <th>marital-status</th>\n      <th>occupation</th>\n      <th>relationship</th>\n      <th>race</th>\n      <th>gender</th>\n      <th>capital-gain</th>\n      <th>capital-loss</th>\n      <th>hours-per-week</th>\n      <th>native-country</th>\n      <th>income</th>\n    </tr>\n  </thead>\n  <tbody>\n    <tr>\n      <th>0</th>\n      <td>25</td>\n      <td>Private</td>\n      <td>226802</td>\n      <td>11th</td>\n      <td>7</td>\n      <td>Never-married</td>\n      <td>Machine-op-inspct</td>\n      <td>Own-child</td>\n      <td>Black</td>\n      <td>Male</td>\n      <td>0</td>\n      <td>0</td>\n      <td>40</td>\n      <td>United-States</td>\n      <td>&lt;=50K</td>\n    </tr>\n    <tr>\n      <th>1</th>\n      <td>38</td>\n      <td>Private</td>\n      <td>89814</td>\n      <td>HS-grad</td>\n      <td>9</td>\n      <td>Married-civ-spouse</td>\n      <td>Farming-fishing</td>\n      <td>Husband</td>\n      <td>White</td>\n      <td>Male</td>\n      <td>0</td>\n      <td>0</td>\n      <td>50</td>\n      <td>United-States</td>\n      <td>&lt;=50K</td>\n    </tr>\n    <tr>\n      <th>2</th>\n      <td>28</td>\n      <td>Local-gov</td>\n      <td>336951</td>\n      <td>Assoc-acdm</td>\n      <td>12</td>\n      <td>Married-civ-spouse</td>\n      <td>Protective-serv</td>\n      <td>Husband</td>\n      <td>White</td>\n      <td>Male</td>\n      <td>0</td>\n      <td>0</td>\n      <td>40</td>\n      <td>United-States</td>\n      <td>&gt;50K</td>\n    </tr>\n    <tr>\n      <th>3</th>\n      <td>44</td>\n      <td>Private</td>\n      <td>160323</td>\n      <td>Some-college</td>\n      <td>10</td>\n      <td>Married-civ-spouse</td>\n      <td>Machine-op-inspct</td>\n      <td>Husband</td>\n      <td>Black</td>\n      <td>Male</td>\n      <td>7688</td>\n      <td>0</td>\n      <td>40</td>\n      <td>United-States</td>\n      <td>&gt;50K</td>\n    </tr>\n    <tr>\n      <th>4</th>\n      <td>18</td>\n      <td>?</td>\n      <td>103497</td>\n      <td>Some-college</td>\n      <td>10</td>\n      <td>Never-married</td>\n      <td>?</td>\n      <td>Own-child</td>\n      <td>White</td>\n      <td>Female</td>\n      <td>0</td>\n      <td>0</td>\n      <td>30</td>\n      <td>United-States</td>\n      <td>&lt;=50K</td>\n    </tr>\n    <tr>\n      <th>...</th>\n      <td>...</td>\n      <td>...</td>\n      <td>...</td>\n      <td>...</td>\n      <td>...</td>\n      <td>...</td>\n      <td>...</td>\n      <td>...</td>\n      <td>...</td>\n      <td>...</td>\n      <td>...</td>\n      <td>...</td>\n      <td>...</td>\n      <td>...</td>\n      <td>...</td>\n    </tr>\n    <tr>\n      <th>48837</th>\n      <td>27</td>\n      <td>Private</td>\n      <td>257302</td>\n      <td>Assoc-acdm</td>\n      <td>12</td>\n      <td>Married-civ-spouse</td>\n      <td>Tech-support</td>\n      <td>Wife</td>\n      <td>White</td>\n      <td>Female</td>\n      <td>0</td>\n      <td>0</td>\n      <td>38</td>\n      <td>United-States</td>\n      <td>&lt;=50K</td>\n    </tr>\n    <tr>\n      <th>48838</th>\n      <td>40</td>\n      <td>Private</td>\n      <td>154374</td>\n      <td>HS-grad</td>\n      <td>9</td>\n      <td>Married-civ-spouse</td>\n      <td>Machine-op-inspct</td>\n      <td>Husband</td>\n      <td>White</td>\n      <td>Male</td>\n      <td>0</td>\n      <td>0</td>\n      <td>40</td>\n      <td>United-States</td>\n      <td>&gt;50K</td>\n    </tr>\n    <tr>\n      <th>48839</th>\n      <td>58</td>\n      <td>Private</td>\n      <td>151910</td>\n      <td>HS-grad</td>\n      <td>9</td>\n      <td>Widowed</td>\n      <td>Adm-clerical</td>\n      <td>Unmarried</td>\n      <td>White</td>\n      <td>Female</td>\n      <td>0</td>\n      <td>0</td>\n      <td>40</td>\n      <td>United-States</td>\n      <td>&lt;=50K</td>\n    </tr>\n    <tr>\n      <th>48840</th>\n      <td>22</td>\n      <td>Private</td>\n      <td>201490</td>\n      <td>HS-grad</td>\n      <td>9</td>\n      <td>Never-married</td>\n      <td>Adm-clerical</td>\n      <td>Own-child</td>\n      <td>White</td>\n      <td>Male</td>\n      <td>0</td>\n      <td>0</td>\n      <td>20</td>\n      <td>United-States</td>\n      <td>&lt;=50K</td>\n    </tr>\n    <tr>\n      <th>48841</th>\n      <td>52</td>\n      <td>Self-emp-inc</td>\n      <td>287927</td>\n      <td>HS-grad</td>\n      <td>9</td>\n      <td>Married-civ-spouse</td>\n      <td>Exec-managerial</td>\n      <td>Wife</td>\n      <td>White</td>\n      <td>Female</td>\n      <td>15024</td>\n      <td>0</td>\n      <td>40</td>\n      <td>United-States</td>\n      <td>&gt;50K</td>\n    </tr>\n  </tbody>\n</table>\n<p>48842 rows × 15 columns</p>\n</div>"
          },
          "metadata": {}
        }
      ],
      "execution_count": 15
    },
    {
      "id": "cbca6e13-e446-46fa-b5df-3f2479acd814",
      "cell_type": "code",
      "source": "# Reshape\npd.melt(df, id_vars =['education'], value_vars =['capital-gain'])\n",
      "metadata": {
        "trusted": true
      },
      "outputs": [
        {
          "execution_count": 16,
          "output_type": "execute_result",
          "data": {
            "text/plain": "          education      variable  value\n0              11th  capital-gain      0\n1           HS-grad  capital-gain      0\n2        Assoc-acdm  capital-gain      0\n3      Some-college  capital-gain   7688\n4      Some-college  capital-gain      0\n...             ...           ...    ...\n48837    Assoc-acdm  capital-gain      0\n48838       HS-grad  capital-gain      0\n48839       HS-grad  capital-gain      0\n48840       HS-grad  capital-gain      0\n48841       HS-grad  capital-gain  15024\n\n[48842 rows x 3 columns]",
            "text/html": "<div>\n<style scoped>\n    .dataframe tbody tr th:only-of-type {\n        vertical-align: middle;\n    }\n\n    .dataframe tbody tr th {\n        vertical-align: top;\n    }\n\n    .dataframe thead th {\n        text-align: right;\n    }\n</style>\n<table border=\"1\" class=\"dataframe\">\n  <thead>\n    <tr style=\"text-align: right;\">\n      <th></th>\n      <th>education</th>\n      <th>variable</th>\n      <th>value</th>\n    </tr>\n  </thead>\n  <tbody>\n    <tr>\n      <th>0</th>\n      <td>11th</td>\n      <td>capital-gain</td>\n      <td>0</td>\n    </tr>\n    <tr>\n      <th>1</th>\n      <td>HS-grad</td>\n      <td>capital-gain</td>\n      <td>0</td>\n    </tr>\n    <tr>\n      <th>2</th>\n      <td>Assoc-acdm</td>\n      <td>capital-gain</td>\n      <td>0</td>\n    </tr>\n    <tr>\n      <th>3</th>\n      <td>Some-college</td>\n      <td>capital-gain</td>\n      <td>7688</td>\n    </tr>\n    <tr>\n      <th>4</th>\n      <td>Some-college</td>\n      <td>capital-gain</td>\n      <td>0</td>\n    </tr>\n    <tr>\n      <th>...</th>\n      <td>...</td>\n      <td>...</td>\n      <td>...</td>\n    </tr>\n    <tr>\n      <th>48837</th>\n      <td>Assoc-acdm</td>\n      <td>capital-gain</td>\n      <td>0</td>\n    </tr>\n    <tr>\n      <th>48838</th>\n      <td>HS-grad</td>\n      <td>capital-gain</td>\n      <td>0</td>\n    </tr>\n    <tr>\n      <th>48839</th>\n      <td>HS-grad</td>\n      <td>capital-gain</td>\n      <td>0</td>\n    </tr>\n    <tr>\n      <th>48840</th>\n      <td>HS-grad</td>\n      <td>capital-gain</td>\n      <td>0</td>\n    </tr>\n    <tr>\n      <th>48841</th>\n      <td>HS-grad</td>\n      <td>capital-gain</td>\n      <td>15024</td>\n    </tr>\n  </tbody>\n</table>\n<p>48842 rows × 3 columns</p>\n</div>"
          },
          "metadata": {}
        }
      ],
      "execution_count": 16
    },
    {
      "id": "7c94741a-ed6e-4552-8bac-732a29809794",
      "cell_type": "code",
      "source": "",
      "metadata": {
        "trusted": true
      },
      "outputs": [],
      "execution_count": null
    }
  ]
}